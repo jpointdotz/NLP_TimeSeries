{
  "nbformat": 4,
  "nbformat_minor": 0,
  "metadata": {
    "colab": {
      "provenance": []
    },
    "kernelspec": {
      "name": "python3",
      "display_name": "Python 3"
    },
    "language_info": {
      "name": "python"
    }
  },
  "cells": [
    {
      "cell_type": "markdown",
      "source": [
        "Just training of LSTM. Instead of taking into account moving average (possible by easy numpy calculation) taking into account all the points on time axis."
      ],
      "metadata": {
        "id": "l2Fmbwkc1hpF"
      }
    },
    {
      "cell_type": "code",
      "execution_count": null,
      "metadata": {
        "id": "ZKpagzyCQDba"
      },
      "outputs": [],
      "source": [
        "import csv\n",
        "import tensorflow as tf\n",
        "import numpy as np\n",
        "import pandas as pd\n",
        "import matplotlib.pyplot as plt"
      ]
    },
    {
      "cell_type": "code",
      "source": [
        "from sklearn.preprocessing import MinMaxScaler"
      ],
      "metadata": {
        "id": "D5VbnYo2Sol5"
      },
      "execution_count": null,
      "outputs": []
    },
    {
      "cell_type": "code",
      "source": [
        "DAILY_STATS = './OpenData_Slovakia_Covid_DailyStats_Regions.csv'\n",
        "\n",
        "df = pd.read_csv(DAILY_STATS, sep=';')"
      ],
      "metadata": {
        "id": "D8Le0JypmVn5"
      },
      "execution_count": null,
      "outputs": []
    },
    {
      "cell_type": "code",
      "source": [
        "df.head()\n"
      ],
      "metadata": {
        "colab": {
          "base_uri": "https://localhost:8080/",
          "height": 206
        },
        "id": "us9J1EodnQ59",
        "outputId": "a00a4903-0780-4fbf-cf60-de183e075324"
      },
      "execution_count": null,
      "outputs": [
        {
          "output_type": "execute_result",
          "data": {
            "text/plain": [
              "        Datum                Region  PCR_Pos  Ag_Neg  Ag_Pos  Total  \\\n",
              "0  2022-06-26  Banskobystrický kraj        2       1       0      1   \n",
              "1  2022-06-25  Banskobystrický kraj       15       0       0      0   \n",
              "2  2022-06-24  Banskobystrický kraj       27     115       3    118   \n",
              "3  2022-06-23  Banskobystrický kraj       24     591       7    598   \n",
              "4  2022-06-22  Banskobystrický kraj       38      91      11    102   \n",
              "\n",
              "   Pocet.potvrdenych  Potvrdenych  newcases        date  positive  \n",
              "0                NaN        91529         2  2022-06-26     91529  \n",
              "1                NaN        91529        15  2022-06-25     91527  \n",
              "2                NaN        91529        30  2022-06-24     91512  \n",
              "3                NaN        91529        31  2022-06-23     91482  \n",
              "4                NaN        91529        49  2022-06-22     91451  "
            ],
            "text/html": [
              "\n",
              "  <div id=\"df-59a0c512-92f3-4bf6-8c1b-07c24a8c629d\">\n",
              "    <div class=\"colab-df-container\">\n",
              "      <div>\n",
              "<style scoped>\n",
              "    .dataframe tbody tr th:only-of-type {\n",
              "        vertical-align: middle;\n",
              "    }\n",
              "\n",
              "    .dataframe tbody tr th {\n",
              "        vertical-align: top;\n",
              "    }\n",
              "\n",
              "    .dataframe thead th {\n",
              "        text-align: right;\n",
              "    }\n",
              "</style>\n",
              "<table border=\"1\" class=\"dataframe\">\n",
              "  <thead>\n",
              "    <tr style=\"text-align: right;\">\n",
              "      <th></th>\n",
              "      <th>Datum</th>\n",
              "      <th>Region</th>\n",
              "      <th>PCR_Pos</th>\n",
              "      <th>Ag_Neg</th>\n",
              "      <th>Ag_Pos</th>\n",
              "      <th>Total</th>\n",
              "      <th>Pocet.potvrdenych</th>\n",
              "      <th>Potvrdenych</th>\n",
              "      <th>newcases</th>\n",
              "      <th>date</th>\n",
              "      <th>positive</th>\n",
              "    </tr>\n",
              "  </thead>\n",
              "  <tbody>\n",
              "    <tr>\n",
              "      <th>0</th>\n",
              "      <td>2022-06-26</td>\n",
              "      <td>Banskobystrický kraj</td>\n",
              "      <td>2</td>\n",
              "      <td>1</td>\n",
              "      <td>0</td>\n",
              "      <td>1</td>\n",
              "      <td>NaN</td>\n",
              "      <td>91529</td>\n",
              "      <td>2</td>\n",
              "      <td>2022-06-26</td>\n",
              "      <td>91529</td>\n",
              "    </tr>\n",
              "    <tr>\n",
              "      <th>1</th>\n",
              "      <td>2022-06-25</td>\n",
              "      <td>Banskobystrický kraj</td>\n",
              "      <td>15</td>\n",
              "      <td>0</td>\n",
              "      <td>0</td>\n",
              "      <td>0</td>\n",
              "      <td>NaN</td>\n",
              "      <td>91529</td>\n",
              "      <td>15</td>\n",
              "      <td>2022-06-25</td>\n",
              "      <td>91527</td>\n",
              "    </tr>\n",
              "    <tr>\n",
              "      <th>2</th>\n",
              "      <td>2022-06-24</td>\n",
              "      <td>Banskobystrický kraj</td>\n",
              "      <td>27</td>\n",
              "      <td>115</td>\n",
              "      <td>3</td>\n",
              "      <td>118</td>\n",
              "      <td>NaN</td>\n",
              "      <td>91529</td>\n",
              "      <td>30</td>\n",
              "      <td>2022-06-24</td>\n",
              "      <td>91512</td>\n",
              "    </tr>\n",
              "    <tr>\n",
              "      <th>3</th>\n",
              "      <td>2022-06-23</td>\n",
              "      <td>Banskobystrický kraj</td>\n",
              "      <td>24</td>\n",
              "      <td>591</td>\n",
              "      <td>7</td>\n",
              "      <td>598</td>\n",
              "      <td>NaN</td>\n",
              "      <td>91529</td>\n",
              "      <td>31</td>\n",
              "      <td>2022-06-23</td>\n",
              "      <td>91482</td>\n",
              "    </tr>\n",
              "    <tr>\n",
              "      <th>4</th>\n",
              "      <td>2022-06-22</td>\n",
              "      <td>Banskobystrický kraj</td>\n",
              "      <td>38</td>\n",
              "      <td>91</td>\n",
              "      <td>11</td>\n",
              "      <td>102</td>\n",
              "      <td>NaN</td>\n",
              "      <td>91529</td>\n",
              "      <td>49</td>\n",
              "      <td>2022-06-22</td>\n",
              "      <td>91451</td>\n",
              "    </tr>\n",
              "  </tbody>\n",
              "</table>\n",
              "</div>\n",
              "      <button class=\"colab-df-convert\" onclick=\"convertToInteractive('df-59a0c512-92f3-4bf6-8c1b-07c24a8c629d')\"\n",
              "              title=\"Convert this dataframe to an interactive table.\"\n",
              "              style=\"display:none;\">\n",
              "        \n",
              "  <svg xmlns=\"http://www.w3.org/2000/svg\" height=\"24px\"viewBox=\"0 0 24 24\"\n",
              "       width=\"24px\">\n",
              "    <path d=\"M0 0h24v24H0V0z\" fill=\"none\"/>\n",
              "    <path d=\"M18.56 5.44l.94 2.06.94-2.06 2.06-.94-2.06-.94-.94-2.06-.94 2.06-2.06.94zm-11 1L8.5 8.5l.94-2.06 2.06-.94-2.06-.94L8.5 2.5l-.94 2.06-2.06.94zm10 10l.94 2.06.94-2.06 2.06-.94-2.06-.94-.94-2.06-.94 2.06-2.06.94z\"/><path d=\"M17.41 7.96l-1.37-1.37c-.4-.4-.92-.59-1.43-.59-.52 0-1.04.2-1.43.59L10.3 9.45l-7.72 7.72c-.78.78-.78 2.05 0 2.83L4 21.41c.39.39.9.59 1.41.59.51 0 1.02-.2 1.41-.59l7.78-7.78 2.81-2.81c.8-.78.8-2.07 0-2.86zM5.41 20L4 18.59l7.72-7.72 1.47 1.35L5.41 20z\"/>\n",
              "  </svg>\n",
              "      </button>\n",
              "      \n",
              "  <style>\n",
              "    .colab-df-container {\n",
              "      display:flex;\n",
              "      flex-wrap:wrap;\n",
              "      gap: 12px;\n",
              "    }\n",
              "\n",
              "    .colab-df-convert {\n",
              "      background-color: #E8F0FE;\n",
              "      border: none;\n",
              "      border-radius: 50%;\n",
              "      cursor: pointer;\n",
              "      display: none;\n",
              "      fill: #1967D2;\n",
              "      height: 32px;\n",
              "      padding: 0 0 0 0;\n",
              "      width: 32px;\n",
              "    }\n",
              "\n",
              "    .colab-df-convert:hover {\n",
              "      background-color: #E2EBFA;\n",
              "      box-shadow: 0px 1px 2px rgba(60, 64, 67, 0.3), 0px 1px 3px 1px rgba(60, 64, 67, 0.15);\n",
              "      fill: #174EA6;\n",
              "    }\n",
              "\n",
              "    [theme=dark] .colab-df-convert {\n",
              "      background-color: #3B4455;\n",
              "      fill: #D2E3FC;\n",
              "    }\n",
              "\n",
              "    [theme=dark] .colab-df-convert:hover {\n",
              "      background-color: #434B5C;\n",
              "      box-shadow: 0px 1px 3px 1px rgba(0, 0, 0, 0.15);\n",
              "      filter: drop-shadow(0px 1px 2px rgba(0, 0, 0, 0.3));\n",
              "      fill: #FFFFFF;\n",
              "    }\n",
              "  </style>\n",
              "\n",
              "      <script>\n",
              "        const buttonEl =\n",
              "          document.querySelector('#df-59a0c512-92f3-4bf6-8c1b-07c24a8c629d button.colab-df-convert');\n",
              "        buttonEl.style.display =\n",
              "          google.colab.kernel.accessAllowed ? 'block' : 'none';\n",
              "\n",
              "        async function convertToInteractive(key) {\n",
              "          const element = document.querySelector('#df-59a0c512-92f3-4bf6-8c1b-07c24a8c629d');\n",
              "          const dataTable =\n",
              "            await google.colab.kernel.invokeFunction('convertToInteractive',\n",
              "                                                     [key], {});\n",
              "          if (!dataTable) return;\n",
              "\n",
              "          const docLinkHtml = 'Like what you see? Visit the ' +\n",
              "            '<a target=\"_blank\" href=https://colab.research.google.com/notebooks/data_table.ipynb>data table notebook</a>'\n",
              "            + ' to learn more about interactive tables.';\n",
              "          element.innerHTML = '';\n",
              "          dataTable['output_type'] = 'display_data';\n",
              "          await google.colab.output.renderOutput(dataTable, element);\n",
              "          const docLink = document.createElement('div');\n",
              "          docLink.innerHTML = docLinkHtml;\n",
              "          element.appendChild(docLink);\n",
              "        }\n",
              "      </script>\n",
              "    </div>\n",
              "  </div>\n",
              "  "
            ]
          },
          "metadata": {},
          "execution_count": 4
        }
      ]
    },
    {
      "cell_type": "code",
      "source": [
        "kosicky = df.loc[(df['Region']).isin(['Košický kraj'])]"
      ],
      "metadata": {
        "id": "dhoFWA-KoWCn"
      },
      "execution_count": null,
      "outputs": []
    },
    {
      "cell_type": "code",
      "source": [
        "kosicky.head()"
      ],
      "metadata": {
        "colab": {
          "base_uri": "https://localhost:8080/",
          "height": 206
        },
        "id": "iTJSz7FnoiJ4",
        "outputId": "a2401b0a-da4e-476d-e079-161c813e07ad"
      },
      "execution_count": null,
      "outputs": [
        {
          "output_type": "execute_result",
          "data": {
            "text/plain": [
              "           Datum        Region  PCR_Pos  Ag_Neg  Ag_Pos  Total  \\\n",
              "1666  2022-06-26  Košický kraj        8      27       9     36   \n",
              "1667  2022-06-25  Košický kraj       35      45      14     59   \n",
              "1668  2022-06-24  Košický kraj       52     154      29    183   \n",
              "1669  2022-06-23  Košický kraj       36     362      20    382   \n",
              "1670  2022-06-22  Košický kraj       33     205      21    226   \n",
              "\n",
              "      Pocet.potvrdenych  Potvrdenych  newcases        date  positive  \n",
              "1666                NaN       110947        17  2022-06-26    110947  \n",
              "1667                NaN       110947        49  2022-06-25    110930  \n",
              "1668                NaN       110947        81  2022-06-24    110881  \n",
              "1669                NaN       110947        56  2022-06-23    110800  \n",
              "1670                NaN       110947        54  2022-06-22    110744  "
            ],
            "text/html": [
              "\n",
              "  <div id=\"df-a4d87ae1-0a48-42f6-a781-c5bd437fbd68\">\n",
              "    <div class=\"colab-df-container\">\n",
              "      <div>\n",
              "<style scoped>\n",
              "    .dataframe tbody tr th:only-of-type {\n",
              "        vertical-align: middle;\n",
              "    }\n",
              "\n",
              "    .dataframe tbody tr th {\n",
              "        vertical-align: top;\n",
              "    }\n",
              "\n",
              "    .dataframe thead th {\n",
              "        text-align: right;\n",
              "    }\n",
              "</style>\n",
              "<table border=\"1\" class=\"dataframe\">\n",
              "  <thead>\n",
              "    <tr style=\"text-align: right;\">\n",
              "      <th></th>\n",
              "      <th>Datum</th>\n",
              "      <th>Region</th>\n",
              "      <th>PCR_Pos</th>\n",
              "      <th>Ag_Neg</th>\n",
              "      <th>Ag_Pos</th>\n",
              "      <th>Total</th>\n",
              "      <th>Pocet.potvrdenych</th>\n",
              "      <th>Potvrdenych</th>\n",
              "      <th>newcases</th>\n",
              "      <th>date</th>\n",
              "      <th>positive</th>\n",
              "    </tr>\n",
              "  </thead>\n",
              "  <tbody>\n",
              "    <tr>\n",
              "      <th>1666</th>\n",
              "      <td>2022-06-26</td>\n",
              "      <td>Košický kraj</td>\n",
              "      <td>8</td>\n",
              "      <td>27</td>\n",
              "      <td>9</td>\n",
              "      <td>36</td>\n",
              "      <td>NaN</td>\n",
              "      <td>110947</td>\n",
              "      <td>17</td>\n",
              "      <td>2022-06-26</td>\n",
              "      <td>110947</td>\n",
              "    </tr>\n",
              "    <tr>\n",
              "      <th>1667</th>\n",
              "      <td>2022-06-25</td>\n",
              "      <td>Košický kraj</td>\n",
              "      <td>35</td>\n",
              "      <td>45</td>\n",
              "      <td>14</td>\n",
              "      <td>59</td>\n",
              "      <td>NaN</td>\n",
              "      <td>110947</td>\n",
              "      <td>49</td>\n",
              "      <td>2022-06-25</td>\n",
              "      <td>110930</td>\n",
              "    </tr>\n",
              "    <tr>\n",
              "      <th>1668</th>\n",
              "      <td>2022-06-24</td>\n",
              "      <td>Košický kraj</td>\n",
              "      <td>52</td>\n",
              "      <td>154</td>\n",
              "      <td>29</td>\n",
              "      <td>183</td>\n",
              "      <td>NaN</td>\n",
              "      <td>110947</td>\n",
              "      <td>81</td>\n",
              "      <td>2022-06-24</td>\n",
              "      <td>110881</td>\n",
              "    </tr>\n",
              "    <tr>\n",
              "      <th>1669</th>\n",
              "      <td>2022-06-23</td>\n",
              "      <td>Košický kraj</td>\n",
              "      <td>36</td>\n",
              "      <td>362</td>\n",
              "      <td>20</td>\n",
              "      <td>382</td>\n",
              "      <td>NaN</td>\n",
              "      <td>110947</td>\n",
              "      <td>56</td>\n",
              "      <td>2022-06-23</td>\n",
              "      <td>110800</td>\n",
              "    </tr>\n",
              "    <tr>\n",
              "      <th>1670</th>\n",
              "      <td>2022-06-22</td>\n",
              "      <td>Košický kraj</td>\n",
              "      <td>33</td>\n",
              "      <td>205</td>\n",
              "      <td>21</td>\n",
              "      <td>226</td>\n",
              "      <td>NaN</td>\n",
              "      <td>110947</td>\n",
              "      <td>54</td>\n",
              "      <td>2022-06-22</td>\n",
              "      <td>110744</td>\n",
              "    </tr>\n",
              "  </tbody>\n",
              "</table>\n",
              "</div>\n",
              "      <button class=\"colab-df-convert\" onclick=\"convertToInteractive('df-a4d87ae1-0a48-42f6-a781-c5bd437fbd68')\"\n",
              "              title=\"Convert this dataframe to an interactive table.\"\n",
              "              style=\"display:none;\">\n",
              "        \n",
              "  <svg xmlns=\"http://www.w3.org/2000/svg\" height=\"24px\"viewBox=\"0 0 24 24\"\n",
              "       width=\"24px\">\n",
              "    <path d=\"M0 0h24v24H0V0z\" fill=\"none\"/>\n",
              "    <path d=\"M18.56 5.44l.94 2.06.94-2.06 2.06-.94-2.06-.94-.94-2.06-.94 2.06-2.06.94zm-11 1L8.5 8.5l.94-2.06 2.06-.94-2.06-.94L8.5 2.5l-.94 2.06-2.06.94zm10 10l.94 2.06.94-2.06 2.06-.94-2.06-.94-.94-2.06-.94 2.06-2.06.94z\"/><path d=\"M17.41 7.96l-1.37-1.37c-.4-.4-.92-.59-1.43-.59-.52 0-1.04.2-1.43.59L10.3 9.45l-7.72 7.72c-.78.78-.78 2.05 0 2.83L4 21.41c.39.39.9.59 1.41.59.51 0 1.02-.2 1.41-.59l7.78-7.78 2.81-2.81c.8-.78.8-2.07 0-2.86zM5.41 20L4 18.59l7.72-7.72 1.47 1.35L5.41 20z\"/>\n",
              "  </svg>\n",
              "      </button>\n",
              "      \n",
              "  <style>\n",
              "    .colab-df-container {\n",
              "      display:flex;\n",
              "      flex-wrap:wrap;\n",
              "      gap: 12px;\n",
              "    }\n",
              "\n",
              "    .colab-df-convert {\n",
              "      background-color: #E8F0FE;\n",
              "      border: none;\n",
              "      border-radius: 50%;\n",
              "      cursor: pointer;\n",
              "      display: none;\n",
              "      fill: #1967D2;\n",
              "      height: 32px;\n",
              "      padding: 0 0 0 0;\n",
              "      width: 32px;\n",
              "    }\n",
              "\n",
              "    .colab-df-convert:hover {\n",
              "      background-color: #E2EBFA;\n",
              "      box-shadow: 0px 1px 2px rgba(60, 64, 67, 0.3), 0px 1px 3px 1px rgba(60, 64, 67, 0.15);\n",
              "      fill: #174EA6;\n",
              "    }\n",
              "\n",
              "    [theme=dark] .colab-df-convert {\n",
              "      background-color: #3B4455;\n",
              "      fill: #D2E3FC;\n",
              "    }\n",
              "\n",
              "    [theme=dark] .colab-df-convert:hover {\n",
              "      background-color: #434B5C;\n",
              "      box-shadow: 0px 1px 3px 1px rgba(0, 0, 0, 0.15);\n",
              "      filter: drop-shadow(0px 1px 2px rgba(0, 0, 0, 0.3));\n",
              "      fill: #FFFFFF;\n",
              "    }\n",
              "  </style>\n",
              "\n",
              "      <script>\n",
              "        const buttonEl =\n",
              "          document.querySelector('#df-a4d87ae1-0a48-42f6-a781-c5bd437fbd68 button.colab-df-convert');\n",
              "        buttonEl.style.display =\n",
              "          google.colab.kernel.accessAllowed ? 'block' : 'none';\n",
              "\n",
              "        async function convertToInteractive(key) {\n",
              "          const element = document.querySelector('#df-a4d87ae1-0a48-42f6-a781-c5bd437fbd68');\n",
              "          const dataTable =\n",
              "            await google.colab.kernel.invokeFunction('convertToInteractive',\n",
              "                                                     [key], {});\n",
              "          if (!dataTable) return;\n",
              "\n",
              "          const docLinkHtml = 'Like what you see? Visit the ' +\n",
              "            '<a target=\"_blank\" href=https://colab.research.google.com/notebooks/data_table.ipynb>data table notebook</a>'\n",
              "            + ' to learn more about interactive tables.';\n",
              "          element.innerHTML = '';\n",
              "          dataTable['output_type'] = 'display_data';\n",
              "          await google.colab.output.renderOutput(dataTable, element);\n",
              "          const docLink = document.createElement('div');\n",
              "          docLink.innerHTML = docLinkHtml;\n",
              "          element.appendChild(docLink);\n",
              "        }\n",
              "      </script>\n",
              "    </div>\n",
              "  </div>\n",
              "  "
            ]
          },
          "metadata": {},
          "execution_count": 34
        }
      ]
    },
    {
      "cell_type": "code",
      "source": [
        "new_cases_kosicky = df['newcases']"
      ],
      "metadata": {
        "id": "JnJY2Ft_qsRz"
      },
      "execution_count": null,
      "outputs": []
    },
    {
      "cell_type": "code",
      "source": [
        "new_cases_kosicky.describe()"
      ],
      "metadata": {
        "colab": {
          "base_uri": "https://localhost:8080/"
        },
        "id": "-aNZv8Fxr684",
        "outputId": "0648ae55-9ea7-43b7-ebfe-24524811d326"
      },
      "execution_count": null,
      "outputs": [
        {
          "output_type": "execute_result",
          "data": {
            "text/plain": [
              "count    6664.000000\n",
              "mean      382.491146\n",
              "std       610.596872\n",
              "min         0.000000\n",
              "25%         8.000000\n",
              "50%        97.000000\n",
              "75%       525.250000\n",
              "max      4287.000000\n",
              "Name: newcases, dtype: float64"
            ]
          },
          "metadata": {},
          "execution_count": 8
        }
      ]
    },
    {
      "cell_type": "code",
      "source": [
        "plt.plot(new_cases_kosicky[:800])"
      ],
      "metadata": {
        "colab": {
          "base_uri": "https://localhost:8080/",
          "height": 282
        },
        "id": "IeCIF4-yr9f5",
        "outputId": "5e795cec-6317-4f82-d091-e4251ff555b7"
      },
      "execution_count": null,
      "outputs": [
        {
          "output_type": "execute_result",
          "data": {
            "text/plain": [
              "[<matplotlib.lines.Line2D at 0x7ff555601510>]"
            ]
          },
          "metadata": {},
          "execution_count": 36
        },
        {
          "output_type": "display_data",
          "data": {
            "text/plain": [
              "<Figure size 432x288 with 1 Axes>"
            ],
            "image/png": "[encoded data removed]"
          },
          "metadata": {
            "needs_background": "light"
          }
        }
      ]
    },
    {
      "cell_type": "code",
      "source": [
        "time_series = [x for x in range(0,6664)]\n"
      ],
      "metadata": {
        "id": "xGEklIJ5sRN0"
      },
      "execution_count": null,
      "outputs": []
    },
    {
      "cell_type": "code",
      "source": [
        "scaler = MinMaxScaler(feature_range = (0 , 1))"
      ],
      "metadata": {
        "id": "qgUlCDf9Sz9W"
      },
      "execution_count": null,
      "outputs": []
    },
    {
      "cell_type": "code",
      "source": [
        "n_series = new_cases_kosicky.copy()"
      ],
      "metadata": {
        "id": "AsW9r5_bTfpg"
      },
      "execution_count": null,
      "outputs": []
    },
    {
      "cell_type": "code",
      "source": [
        "n_series = np.expand_dims(n_series, axis=1)"
      ],
      "metadata": {
        "id": "ShoMITR4TzMb"
      },
      "execution_count": null,
      "outputs": []
    },
    {
      "cell_type": "code",
      "source": [
        "series_normalized = scaler.fit_transform(n_series)"
      ],
      "metadata": {
        "id": "9l2UgfkYTVdN"
      },
      "execution_count": null,
      "outputs": []
    },
    {
      "cell_type": "code",
      "source": [
        "series_normalized"
      ],
      "metadata": {
        "colab": {
          "base_uri": "https://localhost:8080/"
        },
        "id": "U-pqT5vUYvgS",
        "outputId": "c31422be-327c-42f1-f2bf-40884a97d739"
      },
      "execution_count": null,
      "outputs": [
        {
          "output_type": "execute_result",
          "data": {
            "text/plain": [
              "array([[0.00046653],\n",
              "       [0.00349895],\n",
              "       [0.0069979 ],\n",
              "       ...,\n",
              "       [0.        ],\n",
              "       [0.        ],\n",
              "       [0.        ]])"
            ]
          },
          "metadata": {},
          "execution_count": 15
        }
      ]
    },
    {
      "cell_type": "code",
      "source": [
        "# Hyperparameters\n",
        "\n",
        "time = np.array(time_series)\n",
        "series = np.array(new_cases_kosicky)\n",
        "split_time = 5000\n",
        "window_size = 64\n",
        "batch_size = 256\n",
        "shuffle_buffer_size = 1000\n"
      ],
      "metadata": {
        "id": "AOgSSIg1sshk"
      },
      "execution_count": null,
      "outputs": []
    },
    {
      "cell_type": "code",
      "source": [
        "time_train = time[:split_time]\n",
        "series_train = series[:split_time]\n",
        "\n",
        "time_valid = time[split_time:]\n",
        "series_valid = series[split_time:]"
      ],
      "metadata": {
        "id": "21dhAQe6tPM6"
      },
      "execution_count": null,
      "outputs": []
    },
    {
      "cell_type": "code",
      "source": [
        "len(series_train), len(series_valid), len(time_train), len(time_valid)\n"
      ],
      "metadata": {
        "colab": {
          "base_uri": "https://localhost:8080/"
        },
        "id": "9hlgxVYjthRU",
        "outputId": "20cc94e9-9179-470b-e81b-bd78c31a8574"
      },
      "execution_count": null,
      "outputs": [
        {
          "output_type": "execute_result",
          "data": {
            "text/plain": [
              "(5000, 1664, 5000, 1664)"
            ]
          },
          "metadata": {},
          "execution_count": 40
        }
      ]
    },
    {
      "cell_type": "code",
      "source": [
        "train_set = tf.data.Dataset.from_tensor_slices(series_train)\n",
        "train_set = train_set.window(window_size + 1, shift = 1, drop_remainder = True)\n",
        "train_set = train_set.flat_map(lambda w: w.batch(window_size + 1))\n",
        "train_set = train_set.shuffle(shuffle_buffer_size)\n",
        "train_set = train_set.map(lambda w: (w[:-1], w[-1]))\n",
        "train_set = train_set.batch(batch_size).prefetch(1)"
      ],
      "metadata": {
        "id": "7UlN_EMdtjBW"
      },
      "execution_count": null,
      "outputs": []
    },
    {
      "cell_type": "code",
      "source": [
        "print(train_set)"
      ],
      "metadata": {
        "colab": {
          "base_uri": "https://localhost:8080/"
        },
        "id": "8ZV8h-eDtk8n",
        "outputId": "17dc1ead-071a-4322-b0b8-4f8c8b5d515d"
      },
      "execution_count": null,
      "outputs": [
        {
          "output_type": "stream",
          "name": "stdout",
          "text": [
            "<PrefetchDataset element_spec=(TensorSpec(shape=(None, None, 1), dtype=tf.float64, name=None), TensorSpec(shape=(None, 1), dtype=tf.float64, name=None))>\n"
          ]
        }
      ]
    },
    {
      "cell_type": "code",
      "source": [
        "model = tf.keras.models.Sequential ([\n",
        "    tf.keras.layers.Conv1D(filters=64, kernel_size=3,\n",
        "                               strides=1,\n",
        "                               activation = 'relu',\n",
        "                               padding= 'causal',\n",
        "                               input_shape = [window_size,1]),\n",
        "        tf.keras.layers.LSTM(256, return_sequences=True),\n",
        "        tf.keras.layers.LSTM(128, return_sequences=True),\n",
        "        tf.keras.layers.LSTM(64),\n",
        "        tf.keras.layers.Dropout(0.2),\n",
        "        tf.keras.layers.Dense(30, activation = 'relu'),\n",
        "        tf.keras.layers.Dropout(0.2),\n",
        "        tf.keras.layers.Dense(10, activation = 'relu'),\n",
        "        tf.keras.layers.Dense(10)\n",
        "\n",
        "])\n",
        "\n",
        "# model = tf.keras.models.Sequential([ \n",
        "#       tf.keras.layers.Lambda(lambda x: tf.expand_dims(x, axis=-1),\n",
        "#                     input_shape=[None]),\n",
        "#       tf.keras.layers.Bidirectional(tf.keras.layers.LSTM(1024, return_sequences=True)),\n",
        "#       tf.keras.layers.Bidirectional(tf.keras.layers.LSTM(512, return_sequences=True)),\n",
        "#       tf.keras.layers.Bidirectional(tf.keras.layers.LSTM(256, return_sequences=True)),\n",
        "#       tf.keras.layers.Bidirectional(tf.keras.layers.LSTM(128, return_sequences=True)),\n",
        "#       tf.keras.layers.Bidirectional(tf.keras.layers.LSTM(64)),\n",
        "#       tf.keras.layers.Dense(1),\n",
        "#   ]) \n",
        "\n",
        "model.summary()\n",
        "weights = model.get_weights()"
      ],
      "metadata": {
        "colab": {
          "base_uri": "https://localhost:8080/"
        },
        "id": "R3m3sY8ovzHI",
        "outputId": "131a18f1-3777-459e-b234-50b8d3b140ae"
      },
      "execution_count": null,
      "outputs": [
        {
          "output_type": "stream",
          "name": "stdout",
          "text": [
            "Model: \"sequential_2\"\n",
            "_________________________________________________________________\n",
            " Layer (type)                Output Shape              Param #   \n",
            "=================================================================\n",
            " conv1d_2 (Conv1D)           (None, 64, 64)            256       \n",
            "                                                                 \n",
            " lstm_6 (LSTM)               (None, 64, 256)           328704    \n",
            "                                                                 \n",
            " lstm_7 (LSTM)               (None, 64, 128)           197120    \n",
            "                                                                 \n",
            " lstm_8 (LSTM)               (None, 64)                49408     \n",
            "                                                                 \n",
            " dropout_4 (Dropout)         (None, 64)                0         \n",
            "                                                                 \n",
            " dense_6 (Dense)             (None, 30)                1950      \n",
            "                                                                 \n",
            " dropout_5 (Dropout)         (None, 30)                0         \n",
            "                                                                 \n",
            " dense_7 (Dense)             (None, 10)                310       \n",
            "                                                                 \n",
            " dense_8 (Dense)             (None, 10)                110       \n",
            "                                                                 \n",
            "=================================================================\n",
            "Total params: 577,858\n",
            "Trainable params: 577,858\n",
            "Non-trainable params: 0\n",
            "_________________________________________________________________\n"
          ]
        }
      ]
    },
    {
      "cell_type": "code",
      "source": [
        "print(weights)"
      ],
      "metadata": {
        "id": "VHB5hKazxofo"
      },
      "execution_count": null,
      "outputs": []
    },
    {
      "cell_type": "code",
      "source": [
        "for lay in model.layers:\n",
        "    print(lay.name)\n",
        "    print(lay.get_weights)"
      ],
      "metadata": {
        "id": "-xgjAdUbxrGP"
      },
      "execution_count": null,
      "outputs": []
    },
    {
      "cell_type": "code",
      "source": [
        "model.compile(loss = tf.keras.losses.Huber(),\n",
        "              optimizer = 'adam',\n",
        "              metrics=['mae'])"
      ],
      "metadata": {
        "id": "079aJoUSxzK1"
      },
      "execution_count": null,
      "outputs": []
    },
    {
      "cell_type": "code",
      "source": [
        "history = model.fit(train_set, epochs = 10)"
      ],
      "metadata": {
        "colab": {
          "base_uri": "https://localhost:8080/"
        },
        "id": "E5MnOyvZyNz5",
        "outputId": "e88f6763-b700-407e-bf2f-e4140d8657ff"
      },
      "execution_count": null,
      "outputs": [
        {
          "output_type": "stream",
          "name": "stdout",
          "text": [
            "Epoch 1/10\n",
            "20/20 [==============================] - 79s 2s/step - loss: 387.3556 - mae: 387.8298\n",
            "Epoch 2/10\n",
            "20/20 [==============================] - 34s 2s/step - loss: 384.0978 - mae: 384.5732\n",
            "Epoch 3/10\n",
            "20/20 [==============================] - 36s 2s/step - loss: 379.6753 - mae: 380.1489\n",
            "Epoch 4/10\n",
            "20/20 [==============================] - 34s 2s/step - loss: 372.6299 - mae: 373.1057\n",
            "Epoch 5/10\n",
            "20/20 [==============================] - 34s 2s/step - loss: 362.8351 - mae: 363.3118\n",
            "Epoch 6/10\n",
            "20/20 [==============================] - 34s 2s/step - loss: 349.5996 - mae: 350.0761\n",
            "Epoch 7/10\n",
            "20/20 [==============================] - 34s 2s/step - loss: 332.9280 - mae: 333.4064\n",
            "Epoch 8/10\n",
            "20/20 [==============================] - 36s 2s/step - loss: 313.9753 - mae: 314.4554\n",
            "Epoch 9/10\n",
            "20/20 [==============================] - 34s 2s/step - loss: 293.2892 - mae: 293.7713\n",
            "Epoch 10/10\n",
            "20/20 [==============================] - 34s 2s/step - loss: 271.7075 - mae: 272.1906\n"
          ]
        }
      ]
    },
    {
      "cell_type": "code",
      "source": [
        "plt.plot(history.history['mae'])"
      ],
      "metadata": {
        "colab": {
          "base_uri": "https://localhost:8080/",
          "height": 282
        },
        "id": "mO2Ux3QNyaU1",
        "outputId": "86aff04c-ab88-41f1-b80e-06177501fff3"
      },
      "execution_count": null,
      "outputs": [
        {
          "output_type": "execute_result",
          "data": {
            "text/plain": [
              "[<matplotlib.lines.Line2D at 0x7ff5581909d0>]"
            ]
          },
          "metadata": {},
          "execution_count": 45
        },
        {
          "output_type": "display_data",
          "data": {
            "text/plain": [
              "<Figure size 432x288 with 1 Axes>"
            ],
            "image/png": "[encoded data removed]"
          },
          "metadata": {
            "needs_background": "light"
          }
        }
      ]
    },
    {
      "cell_type": "code",
      "source": [
        "plt.plot(history.history['loss'])"
      ],
      "metadata": {
        "colab": {
          "base_uri": "https://localhost:8080/",
          "height": 282
        },
        "id": "L45M8WpF2lzM",
        "outputId": "ccc99864-919e-4d66-8c53-dc335ddeef53"
      },
      "execution_count": null,
      "outputs": [
        {
          "output_type": "execute_result",
          "data": {
            "text/plain": [
              "[<matplotlib.lines.Line2D at 0x7ff554b5b090>]"
            ]
          },
          "metadata": {},
          "execution_count": 46
        },
        {
          "output_type": "display_data",
          "data": {
            "text/plain": [
              "<Figure size 432x288 with 1 Axes>"
            ],
            "image/png": "[encoded data removed]"
          },
          "metadata": {
            "needs_background": "light"
          }
        }
      ]
    },
    {
      "cell_type": "code",
      "source": [
        "model.save('my_model.h5')"
      ],
      "metadata": {
        "id": "v7elblqK3Zc8"
      },
      "execution_count": null,
      "outputs": []
    },
    {
      "cell_type": "code",
      "source": [
        "def model_forecast(model, series, window_size):\n",
        "    ds = tf.data.Dataset.from_tensor_slices(series)\n",
        "    ds = ds.window(window_size, shift=1, drop_remainder=True)\n",
        "    ds = ds.flat_map(lambda w: w.batch(window_size))\n",
        "    ds = ds.batch(32).prefetch(1)\n",
        "    forecast = model.predict(ds)\n",
        "    return forecast"
      ],
      "metadata": {
        "id": "yquyjLFR3tPC"
      },
      "execution_count": null,
      "outputs": []
    },
    {
      "cell_type": "code",
      "source": [
        "# Compute the forecast for all the series\n",
        "rnn_forecast = model_forecast(model, series, window_size).squeeze()\n",
        "\n",
        "# Slice the forecast to get only the predictions for the validation set\n",
        "rnn_forecast = rnn_forecast[split_time - window_size:time_valid, -1]\n",
        "\n",
        "rnn_forecast_2 = rnn_forecast[:+150]\n",
        "\n",
        "\n",
        "\n",
        "# Plot the forecast\n",
        "plt.figure(figsize=(10, 6))\n",
        "plt.plot(time_valid, series_valid)\n",
        "plt.plot(rnn_forecast)\n"
      ],
      "metadata": {
        "colab": {
          "base_uri": "https://localhost:8080/",
          "height": 235
        },
        "id": "Nc7M6qNpyRWF",
        "outputId": "b82a6f26-f9c6-4002-ae42-949cfd7ae068"
      },
      "execution_count": null,
      "outputs": [
        {
          "output_type": "error",
          "ename": "TypeError",
          "evalue": "ignored",
          "traceback": [
            "\u001b[0;31m---------------------------------------------------------------------------\u001b[0m",
            "\u001b[0;31mTypeError\u001b[0m                                 Traceback (most recent call last)",
            "\u001b[0;32m<ipython-input-49-2b8b3cddc562>\u001b[0m in \u001b[0;36m<module>\u001b[0;34m\u001b[0m\n\u001b[1;32m      3\u001b[0m \u001b[0;34m\u001b[0m\u001b[0m\n\u001b[1;32m      4\u001b[0m \u001b[0;31m# Slice the forecast to get only the predictions for the validation set\u001b[0m\u001b[0;34m\u001b[0m\u001b[0;34m\u001b[0m\u001b[0;34m\u001b[0m\u001b[0m\n\u001b[0;32m----> 5\u001b[0;31m \u001b[0mrnn_forecast\u001b[0m \u001b[0;34m=\u001b[0m \u001b[0mrnn_forecast\u001b[0m\u001b[0;34m[\u001b[0m\u001b[0msplit_time\u001b[0m \u001b[0;34m-\u001b[0m \u001b[0mwindow_size\u001b[0m\u001b[0;34m:\u001b[0m\u001b[0mtime_valid\u001b[0m\u001b[0;34m,\u001b[0m \u001b[0;34m-\u001b[0m\u001b[0;36m1\u001b[0m\u001b[0;34m]\u001b[0m\u001b[0;34m\u001b[0m\u001b[0;34m\u001b[0m\u001b[0m\n\u001b[0m\u001b[1;32m      6\u001b[0m \u001b[0;34m\u001b[0m\u001b[0m\n\u001b[1;32m      7\u001b[0m \u001b[0mrnn_forecast_2\u001b[0m \u001b[0;34m=\u001b[0m \u001b[0mrnn_forecast\u001b[0m\u001b[0;34m[\u001b[0m\u001b[0;34m:\u001b[0m\u001b[0;34m+\u001b[0m\u001b[0;36m150\u001b[0m\u001b[0;34m]\u001b[0m\u001b[0;34m\u001b[0m\u001b[0;34m\u001b[0m\u001b[0m\n",
            "\u001b[0;31mTypeError\u001b[0m: only integer scalar arrays can be converted to a scalar index"
          ]
        }
      ]
    },
    {
      "cell_type": "code",
      "source": [
        "arnn_forecast"
      ],
      "metadata": {
        "colab": {
          "base_uri": "https://localhost:8080/"
        },
        "id": "Z1AwOi0YIt2f",
        "outputId": "5d5dfe8d-47d1-4761-e5b6-b831dbba8eb3"
      },
      "execution_count": null,
      "outputs": [
        {
          "output_type": "execute_result",
          "data": {
            "text/plain": [
              "array([], dtype=float32)"
            ]
          },
          "metadata": {},
          "execution_count": 116
        }
      ]
    },
    {
      "cell_type": "code",
      "source": [
        "rnn_forecast_2 = rnn_forecast[:+1500]"
      ],
      "metadata": {
        "id": "fWUI6XNy8lMK"
      },
      "execution_count": null,
      "outputs": []
    },
    {
      "cell_type": "code",
      "source": [
        "rnn_forecast_3 = rnn_forecast[0:split_time]"
      ],
      "metadata": {
        "id": "orzrIlLH-rc7"
      },
      "execution_count": null,
      "outputs": []
    },
    {
      "cell_type": "code",
      "source": [
        "plt.figure(figsize=(10, 6))\n",
        "plt.plot(time, series)\n",
        "plt.plot(time_valid, rnn_forecast_3)\n",
        "plt.plot(range(6665, 6665+1500),rnn_forecast_2)"
      ],
      "metadata": {
        "colab": {
          "base_uri": "https://localhost:8080/",
          "height": 391
        },
        "id": "ORjVH3iK2KBi",
        "outputId": "733ecdd5-78c5-4e32-886a-75a2d4a9475e"
      },
      "execution_count": null,
      "outputs": [
        {
          "output_type": "execute_result",
          "data": {
            "text/plain": [
              "[<matplotlib.lines.Line2D at 0x7ff23535a190>]"
            ]
          },
          "metadata": {},
          "execution_count": 110
        },
        {
          "output_type": "display_data",
          "data": {
            "text/plain": [
              "<Figure size 720x432 with 1 Axes>"
            ],
            "image/png": "[encoded data removed]"
          },
          "metadata": {
            "needs_background": "light"
          }
        }
      ]
    },
    {
      "cell_type": "code",
      "source": [
        "rnn_forecast_2.shape"
      ],
      "metadata": {
        "colab": {
          "base_uri": "https://localhost:8080/"
        },
        "id": "7a5rD6nH-cp4",
        "outputId": "b57adc16-f012-4e80-bb43-f61feca6c23b"
      },
      "execution_count": null,
      "outputs": [
        {
          "output_type": "execute_result",
          "data": {
            "text/plain": [
              "(150,)"
            ]
          },
          "metadata": {},
          "execution_count": 97
        }
      ]
    },
    {
      "cell_type": "code",
      "source": [
        "new_forecast = []\n",
        "\n",
        "new_forecast_series = series[-window_size:]\n",
        "\n",
        "prediction = model.predict(new_forecast_series[np.newaxis])\n",
        "\n",
        "plt.figure(figsize=(15, 6))\n",
        "plt.plot(time[:], series[:], label=\"last 100 points of time series\")\n",
        "plt.scatter(max(time)+1, prediction, color=\"red\", marker=\"x\", s=70, label=\"prediction\")\n",
        "plt.legend()\n",
        "plt.show()"
      ],
      "metadata": {
        "colab": {
          "base_uri": "https://localhost:8080/",
          "height": 374
        },
        "id": "znPl8B1pzm_0",
        "outputId": "b853c84a-a8f3-414c-b912-97808dd336c8"
      },
      "execution_count": null,
      "outputs": [
        {
          "output_type": "display_data",
          "data": {
            "text/plain": [
              "<Figure size 1080x432 with 1 Axes>"
            ],
            "image/png": "[encoded data removed]"
          },
          "metadata": {
            "needs_background": "light"
          }
        }
      ]
    },
    {
      "cell_type": "code",
      "source": [],
      "metadata": {
        "id": "fFbFiNEG6uGB"
      },
      "execution_count": null,
      "outputs": []
    }
  ]
}
