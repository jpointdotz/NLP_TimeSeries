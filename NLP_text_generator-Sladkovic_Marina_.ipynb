{
 "cells": [
  {
   "cell_type": "code",
   "execution_count": null,
   "metadata": {
    "id": "-pk1TQpM1OOJ"
   },
   "outputs": [],
   "source": [
    "import numpy as np\n",
    "import matplotlib.pyplot as plt\n",
    "from tensorflow.keras.models import Sequential\n",
    "from tensorflow.keras.utils import to_categorical\n",
    "from tensorflow.keras.preprocessing.text import Tokenizer\n",
    "from tensorflow.keras.preprocessing.sequence import pad_sequences\n",
    "from tensorflow.keras.layers import Embedding, LSTM, Dense, Bidirectional "
   ]
  },
  {
   "cell_type": "code",
   "execution_count": null,
   "metadata": {
    "id": "Irc39FoW19tp"
   },
   "outputs": [],
   "source": [
    "file = \"./Andrej Sladkovic - Marina - edited 2.txt\""
   ]
  },
  {
   "cell_type": "code",
   "execution_count": null,
   "metadata": {
    "id": "hBjKFAO06psZ"
   },
   "outputs": [],
   "source": [
    "with open(file) as f:\n",
    "    data = f.read()\n",
    "\n",
    "body = data.lower().split(\"\\n\")"
   ]
  },
  {
   "cell_type": "code",
   "execution_count": null,
   "metadata": {
    "colab": {
     "base_uri": "https://localhost:8080/",
     "height": 35
    },
    "id": "vj2mYkSr61pI",
    "outputId": "0b667fa4-8cfd-4988-b145-c6acfa877576"
   },
   "outputs": [
    {
     "data": {
      "application/vnd.google.colaboratory.intrinsic+json": {
       "type": "string"
      },
      "text/plain": [
       "'tak ona duchom svojím mi šatí'"
      ]
     },
     "execution_count": 4,
     "metadata": {},
     "output_type": "execute_result"
    }
   ],
   "source": [
    "body[11]"
   ]
  },
  {
   "cell_type": "code",
   "execution_count": null,
   "metadata": {
    "colab": {
     "base_uri": "https://localhost:8080/"
    },
    "id": "p1Ty3wYG66dm",
    "outputId": "4b8ced35-8cca-46fe-de93-6f72ddbc317b"
   },
   "outputs": [
    {
     "data": {
      "text/plain": [
       "2913"
      ]
     },
     "execution_count": 5,
     "metadata": {},
     "output_type": "execute_result"
    }
   ],
   "source": [
    "len(body)"
   ]
  },
  {
   "cell_type": "code",
   "execution_count": null,
   "metadata": {
    "colab": {
     "base_uri": "https://localhost:8080/"
    },
    "id": "OXvCQEi47M30",
    "outputId": "705d075d-2da3-4e3e-bc0e-ef7dd053325d"
   },
   "outputs": [
    {
     "data": {
      "text/plain": [
       "5199"
      ]
     },
     "execution_count": 6,
     "metadata": {},
     "output_type": "execute_result"
    }
   ],
   "source": [
    "# TOKENIZING\n",
    "\n",
    "tokenizer = Tokenizer()\n",
    "tokenizer.fit_on_texts(body)\n",
    "total_words = len(tokenizer.word_index) + 1\n",
    "\n",
    "len(tokenizer.word_index)"
   ]
  },
  {
   "cell_type": "code",
   "execution_count": null,
   "metadata": {
    "id": "xPB--SdR7hgx"
   },
   "outputs": [],
   "source": [
    "# N_GRAM SEQUENCES\n",
    "\n",
    "def n_gram_seq(body, tokenizer):\n",
    "    input_sequences = []\n",
    "\n",
    "    for line in body:\n",
    "        token_list = tokenizer.texts_to_sequences([line])[0]\n",
    "\n",
    "        for i in range(1, len(token_list)):\n",
    "            n_gram_s = token_list[:i+1]\n",
    "\n",
    "            input_sequences.append(n_gram_s)\n",
    "    \n",
    "    return input_sequences"
   ]
  },
  {
   "cell_type": "code",
   "execution_count": null,
   "metadata": {
    "id": "lXmjPeO47lN8"
   },
   "outputs": [],
   "source": [
    "input_sequences = n_gram_seq(body, tokenizer)"
   ]
  },
  {
   "cell_type": "code",
   "execution_count": null,
   "metadata": {
    "id": "5zzz5X_-90ON"
   },
   "outputs": [],
   "source": [
    "max_sequence_len = max([len(x) for x in input_sequences])"
   ]
  },
  {
   "cell_type": "code",
   "execution_count": null,
   "metadata": {
    "colab": {
     "base_uri": "https://localhost:8080/"
    },
    "id": "c8kTH9Dq83ky",
    "outputId": "341c74fd-248b-4166-a81d-2dc1723fca94"
   },
   "outputs": [
    {
     "data": {
      "text/plain": [
       "[[1712, 291],\n",
       " [1712, 291, 351],\n",
       " [1712, 291, 351, 351],\n",
       " [1712, 291, 351, 351, 56],\n",
       " [1712, 291, 351, 351, 56, 162]]"
      ]
     },
     "execution_count": 10,
     "metadata": {},
     "output_type": "execute_result"
    }
   ],
   "source": [
    "input_sequences[:5]"
   ]
  },
  {
   "cell_type": "code",
   "execution_count": null,
   "metadata": {
    "id": "Ues3BZi19Cri"
   },
   "outputs": [],
   "source": [
    "# PADDING\n",
    "\n",
    "def pad_seqs(input_sequences, maxlen):\n",
    "\n",
    "    padded_sequences = np.array(pad_sequences(input_sequences, maxlen=maxlen, padding = 'pre'))\n",
    "\n",
    "    return padded_sequences"
   ]
  },
  {
   "cell_type": "code",
   "execution_count": null,
   "metadata": {
    "id": "__VrGqlV9X2v"
   },
   "outputs": [],
   "source": [
    "input_sequences = pad_seqs(input_sequences, max_sequence_len)"
   ]
  },
  {
   "cell_type": "code",
   "execution_count": null,
   "metadata": {
    "colab": {
     "base_uri": "https://localhost:8080/"
    },
    "id": "oIg2vvd096px",
    "outputId": "597c906b-d16a-457e-981d-a28537ef6473"
   },
   "outputs": [
    {
     "data": {
      "text/plain": [
       "array([[   0,    0,    0,    0,    0,    0,    0, 1712,  291],\n",
       "       [   0,    0,    0,    0,    0,    0, 1712,  291,  351],\n",
       "       [   0,    0,    0,    0,    0, 1712,  291,  351,  351],\n",
       "       [   0,    0,    0,    0, 1712,  291,  351,  351,   56],\n",
       "       [   0,    0,    0, 1712,  291,  351,  351,   56,  162]],\n",
       "      dtype=int32)"
      ]
     },
     "execution_count": 13,
     "metadata": {},
     "output_type": "execute_result"
    }
   ],
   "source": [
    "input_sequences[0:5]"
   ]
  },
  {
   "cell_type": "code",
   "execution_count": null,
   "metadata": {
    "colab": {
     "base_uri": "https://localhost:8080/"
    },
    "id": "umNSbS9G9-2I",
    "outputId": "d2a16c73-db1f-4051-a263-88bbc7b35a8a"
   },
   "outputs": [
    {
     "data": {
      "text/plain": [
       "(11695, 9)"
      ]
     },
     "execution_count": 14,
     "metadata": {},
     "output_type": "execute_result"
    }
   ],
   "source": [
    "input_sequences.shape"
   ]
  },
  {
   "cell_type": "code",
   "execution_count": null,
   "metadata": {
    "id": "ZS3LdytD-MES"
   },
   "outputs": [],
   "source": [
    "# SPLIT FEATURES AND LABELS\n",
    "\n",
    "def features_and_labels(input_sequences, total_words):\n",
    "    \n",
    "    features = input_sequences[:,:-1]\n",
    "    labels = input_sequences[:,-1]\n",
    "    one_hot_labels = to_categorical(labels, num_classes = total_words)\n",
    "\n",
    "    return features, one_hot_labels"
   ]
  },
  {
   "cell_type": "code",
   "execution_count": null,
   "metadata": {
    "id": "Dk41VrdX-6Vp"
   },
   "outputs": [],
   "source": [
    "features, labels = features_and_labels(input_sequences, total_words)"
   ]
  },
  {
   "cell_type": "code",
   "execution_count": null,
   "metadata": {
    "colab": {
     "base_uri": "https://localhost:8080/"
    },
    "id": "B4X0-elQ_D7A",
    "outputId": "949818aa-7589-4234-9792-d527aecb8453"
   },
   "outputs": [
    {
     "data": {
      "text/plain": [
       "array([[   0,    0,    0,    0,    0,    0,    0, 1712],\n",
       "       [   0,    0,    0,    0,    0,    0, 1712,  291],\n",
       "       [   0,    0,    0,    0,    0, 1712,  291,  351],\n",
       "       [   0,    0,    0,    0, 1712,  291,  351,  351],\n",
       "       [   0,    0,    0, 1712,  291,  351,  351,   56]], dtype=int32)"
      ]
     },
     "execution_count": 17,
     "metadata": {},
     "output_type": "execute_result"
    }
   ],
   "source": [
    "features[0:5]"
   ]
  },
  {
   "cell_type": "code",
   "execution_count": null,
   "metadata": {
    "colab": {
     "base_uri": "https://localhost:8080/"
    },
    "id": "yGIPnYvU_OOG",
    "outputId": "548141a6-23cc-4cb6-b66a-033ed07b7666"
   },
   "outputs": [
    {
     "data": {
      "text/plain": [
       "1.0"
      ]
     },
     "execution_count": 18,
     "metadata": {},
     "output_type": "execute_result"
    }
   ],
   "source": [
    "labels[0].max()"
   ]
  },
  {
   "cell_type": "code",
   "execution_count": null,
   "metadata": {
    "colab": {
     "base_uri": "https://localhost:8080/"
    },
    "id": "QeP8j8a1_R5X",
    "outputId": "02839a0d-2e56-45f0-c4af-fa4f2f5b951c"
   },
   "outputs": [
    {
     "name": "stdout",
     "output_type": "stream",
     "text": [
      "Model: \"sequential\"\n",
      "_________________________________________________________________\n",
      " Layer (type)                Output Shape              Param #   \n",
      "=================================================================\n",
      " embedding (Embedding)       (None, 8, 100)            520000    \n",
      "                                                                 \n",
      " bidirectional (Bidirectiona  (None, 8, 128)           84480     \n",
      " l)                                                              \n",
      "                                                                 \n",
      " bidirectional_1 (Bidirectio  (None, 256)              263168    \n",
      " nal)                                                            \n",
      "                                                                 \n",
      " dense (Dense)               (None, 5200)              1336400   \n",
      "                                                                 \n",
      "=================================================================\n",
      "Total params: 2,204,048\n",
      "Trainable params: 2,204,048\n",
      "Non-trainable params: 0\n",
      "_________________________________________________________________\n"
     ]
    }
   ],
   "source": [
    "# MODEL\n",
    "\n",
    "model = Sequential()\n",
    "\n",
    "model.add(Embedding(total_words, 100, input_length = max_sequence_len-1))\n",
    "model.add(Bidirectional(LSTM(64, return_sequences = True )))\n",
    "model.add(Bidirectional(LSTM(128)))\n",
    "model.add(Dense(total_words, activation = 'softmax'))\n",
    "\n",
    "model.compile(loss='categorical_crossentropy',\n",
    "              optimizer = 'adam',\n",
    "              metrics = 'accuracy')\n",
    "\n",
    "model.summary()"
   ]
  },
  {
   "cell_type": "code",
   "execution_count": null,
   "metadata": {
    "colab": {
     "base_uri": "https://localhost:8080/"
    },
    "id": "7_cq8jq2ATa1",
    "outputId": "7f1b12c5-391d-45d3-8b58-6d08ab14fc46"
   },
   "outputs": [
    {
     "name": "stdout",
     "output_type": "stream",
     "text": [
      "Epoch 1/300\n",
      "366/366 [==============================] - 31s 64ms/step - loss: 8.0868 - accuracy: 0.0300\n",
      "Epoch 2/300\n",
      "366/366 [==============================] - 23s 63ms/step - loss: 7.5657 - accuracy: 0.0295\n",
      "Epoch 3/300\n",
      "366/366 [==============================] - 24s 66ms/step - loss: 7.3682 - accuracy: 0.0310\n",
      "Epoch 4/300\n",
      "366/366 [==============================] - 23s 63ms/step - loss: 7.1286 - accuracy: 0.0345\n",
      "Epoch 5/300\n",
      "366/366 [==============================] - 23s 63ms/step - loss: 6.7865 - accuracy: 0.0357\n",
      "Epoch 6/300\n",
      "366/366 [==============================] - 23s 64ms/step - loss: 6.3653 - accuracy: 0.0403\n",
      "Epoch 7/300\n",
      "366/366 [==============================] - 23s 63ms/step - loss: 5.8814 - accuracy: 0.0499\n",
      "Epoch 8/300\n",
      "366/366 [==============================] - 23s 63ms/step - loss: 5.3546 - accuracy: 0.0656\n",
      "Epoch 9/300\n",
      "366/366 [==============================] - 23s 63ms/step - loss: 4.8362 - accuracy: 0.0932\n",
      "Epoch 10/300\n",
      "366/366 [==============================] - 23s 63ms/step - loss: 4.3311 - accuracy: 0.1423\n",
      "Epoch 11/300\n",
      "366/366 [==============================] - 24s 67ms/step - loss: 3.8514 - accuracy: 0.2189\n",
      "Epoch 12/300\n",
      "366/366 [==============================] - 23s 63ms/step - loss: 3.4195 - accuracy: 0.2997\n",
      "Epoch 13/300\n",
      "366/366 [==============================] - 23s 63ms/step - loss: 3.0230 - accuracy: 0.3826\n",
      "Epoch 14/300\n",
      "366/366 [==============================] - 23s 63ms/step - loss: 2.6868 - accuracy: 0.4540\n",
      "Epoch 15/300\n",
      "366/366 [==============================] - 23s 63ms/step - loss: 2.4034 - accuracy: 0.5135\n",
      "Epoch 16/300\n",
      "366/366 [==============================] - 23s 63ms/step - loss: 2.1634 - accuracy: 0.5642\n",
      "Epoch 17/300\n",
      "366/366 [==============================] - 23s 63ms/step - loss: 1.9606 - accuracy: 0.6047\n",
      "Epoch 18/300\n",
      "366/366 [==============================] - 23s 63ms/step - loss: 1.7994 - accuracy: 0.6365\n",
      "Epoch 19/300\n",
      "366/366 [==============================] - 23s 64ms/step - loss: 1.6547 - accuracy: 0.6701\n",
      "Epoch 20/300\n",
      "366/366 [==============================] - 26s 71ms/step - loss: 1.5305 - accuracy: 0.6886\n",
      "Epoch 21/300\n",
      "366/366 [==============================] - 24s 65ms/step - loss: 1.4229 - accuracy: 0.7144\n",
      "Epoch 22/300\n",
      "366/366 [==============================] - 24s 66ms/step - loss: 1.3335 - accuracy: 0.7277\n",
      "Epoch 23/300\n",
      "366/366 [==============================] - 24s 65ms/step - loss: 1.2574 - accuracy: 0.7399\n",
      "Epoch 24/300\n",
      "366/366 [==============================] - 24s 65ms/step - loss: 1.1764 - accuracy: 0.7561\n",
      "Epoch 25/300\n",
      "366/366 [==============================] - 24s 65ms/step - loss: 1.1221 - accuracy: 0.7656\n",
      "Epoch 26/300\n",
      "366/366 [==============================] - 24s 65ms/step - loss: 1.0706 - accuracy: 0.7721\n",
      "Epoch 27/300\n",
      "366/366 [==============================] - 24s 65ms/step - loss: 1.0297 - accuracy: 0.7809\n",
      "Epoch 28/300\n",
      "366/366 [==============================] - 24s 67ms/step - loss: 0.9880 - accuracy: 0.7841\n",
      "Epoch 29/300\n",
      "366/366 [==============================] - 25s 69ms/step - loss: 0.9583 - accuracy: 0.7884\n",
      "Epoch 30/300\n",
      "366/366 [==============================] - 24s 65ms/step - loss: 0.9311 - accuracy: 0.7926\n",
      "Epoch 31/300\n",
      "366/366 [==============================] - 25s 67ms/step - loss: 0.9097 - accuracy: 0.7954\n",
      "Epoch 32/300\n",
      "366/366 [==============================] - 25s 69ms/step - loss: 0.8915 - accuracy: 0.7968\n",
      "Epoch 33/300\n",
      "366/366 [==============================] - 26s 70ms/step - loss: 0.8694 - accuracy: 0.7981\n",
      "Epoch 34/300\n",
      "366/366 [==============================] - 25s 68ms/step - loss: 0.8577 - accuracy: 0.7995\n",
      "Epoch 35/300\n",
      "366/366 [==============================] - 26s 70ms/step - loss: 0.8438 - accuracy: 0.8021\n",
      "Epoch 36/300\n",
      "366/366 [==============================] - 25s 68ms/step - loss: 0.8402 - accuracy: 0.7985\n",
      "Epoch 37/300\n",
      "366/366 [==============================] - 24s 66ms/step - loss: 0.8365 - accuracy: 0.7978\n",
      "Epoch 38/300\n",
      "366/366 [==============================] - 25s 69ms/step - loss: 0.8256 - accuracy: 0.8005\n",
      "Epoch 39/300\n",
      "366/366 [==============================] - 24s 66ms/step - loss: 0.8109 - accuracy: 0.8009\n",
      "Epoch 40/300\n",
      "366/366 [==============================] - 24s 65ms/step - loss: 0.8049 - accuracy: 0.8021\n",
      "Epoch 41/300\n",
      "366/366 [==============================] - 24s 66ms/step - loss: 0.7948 - accuracy: 0.8010\n",
      "Epoch 42/300\n",
      "366/366 [==============================] - 25s 68ms/step - loss: 0.7967 - accuracy: 0.8015\n",
      "Epoch 43/300\n",
      "366/366 [==============================] - 24s 67ms/step - loss: 0.7891 - accuracy: 0.8006\n",
      "Epoch 44/300\n",
      "366/366 [==============================] - 24s 66ms/step - loss: 0.7925 - accuracy: 0.8014\n",
      "Epoch 45/300\n",
      "366/366 [==============================] - 24s 66ms/step - loss: 0.7788 - accuracy: 0.8021\n",
      "Epoch 46/300\n",
      "366/366 [==============================] - 26s 71ms/step - loss: 0.7759 - accuracy: 0.8027\n",
      "Epoch 47/300\n",
      "366/366 [==============================] - 24s 65ms/step - loss: 0.7772 - accuracy: 0.8021\n",
      "Epoch 48/300\n",
      "366/366 [==============================] - 24s 65ms/step - loss: 0.7737 - accuracy: 0.8027\n",
      "Epoch 49/300\n",
      "366/366 [==============================] - 24s 65ms/step - loss: 0.7675 - accuracy: 0.8025\n",
      "Epoch 50/300\n",
      "366/366 [==============================] - 24s 65ms/step - loss: 0.7639 - accuracy: 0.8002\n",
      "Epoch 51/300\n",
      "366/366 [==============================] - 24s 66ms/step - loss: 0.7583 - accuracy: 0.8008\n",
      "Epoch 52/300\n",
      "366/366 [==============================] - 25s 67ms/step - loss: 0.7518 - accuracy: 0.8028\n",
      "Epoch 53/300\n",
      "366/366 [==============================] - 25s 68ms/step - loss: 0.7508 - accuracy: 0.8015\n",
      "Epoch 54/300\n",
      "366/366 [==============================] - 24s 66ms/step - loss: 0.7446 - accuracy: 0.8032\n",
      "Epoch 55/300\n",
      "366/366 [==============================] - 26s 70ms/step - loss: 0.7429 - accuracy: 0.8036\n",
      "Epoch 56/300\n",
      "366/366 [==============================] - 24s 65ms/step - loss: 0.7451 - accuracy: 0.8028\n",
      "Epoch 57/300\n",
      "366/366 [==============================] - 24s 66ms/step - loss: 0.7457 - accuracy: 0.8022\n",
      "Epoch 58/300\n",
      "366/366 [==============================] - 24s 65ms/step - loss: 0.7390 - accuracy: 0.8029\n",
      "Epoch 59/300\n",
      "366/366 [==============================] - 26s 70ms/step - loss: 0.7392 - accuracy: 0.8021\n",
      "Epoch 60/300\n",
      "366/366 [==============================] - 27s 75ms/step - loss: 0.7382 - accuracy: 0.8033\n",
      "Epoch 61/300\n",
      "366/366 [==============================] - 27s 75ms/step - loss: 0.7394 - accuracy: 0.8023\n",
      "Epoch 62/300\n",
      "366/366 [==============================] - 27s 73ms/step - loss: 0.7352 - accuracy: 0.8026\n",
      "Epoch 63/300\n",
      "366/366 [==============================] - 27s 74ms/step - loss: 0.7280 - accuracy: 0.8041\n",
      "Epoch 64/300\n",
      "366/366 [==============================] - 28s 77ms/step - loss: 0.7280 - accuracy: 0.8048\n",
      "Epoch 65/300\n",
      "366/366 [==============================] - 28s 77ms/step - loss: 0.7306 - accuracy: 0.8029\n",
      "Epoch 66/300\n",
      "366/366 [==============================] - 29s 79ms/step - loss: 0.7275 - accuracy: 0.8023\n",
      "Epoch 67/300\n",
      "366/366 [==============================] - 27s 74ms/step - loss: 0.7220 - accuracy: 0.8044\n",
      "Epoch 68/300\n",
      "366/366 [==============================] - 27s 74ms/step - loss: 0.7207 - accuracy: 0.8038\n",
      "Epoch 69/300\n",
      "366/366 [==============================] - 27s 75ms/step - loss: 0.7238 - accuracy: 0.8019\n",
      "Epoch 70/300\n",
      "366/366 [==============================] - 28s 76ms/step - loss: 0.7273 - accuracy: 0.8032\n",
      "Epoch 71/300\n",
      "366/366 [==============================] - 28s 77ms/step - loss: 0.7162 - accuracy: 0.8042\n",
      "Epoch 72/300\n",
      "366/366 [==============================] - 28s 75ms/step - loss: 0.7160 - accuracy: 0.8024\n",
      "Epoch 73/300\n",
      "366/366 [==============================] - 30s 82ms/step - loss: 0.7116 - accuracy: 0.8038\n",
      "Epoch 74/300\n",
      "366/366 [==============================] - 26s 72ms/step - loss: 0.7121 - accuracy: 0.8032\n",
      "Epoch 75/300\n",
      "366/366 [==============================] - 26s 71ms/step - loss: 0.7096 - accuracy: 0.8046\n",
      "Epoch 76/300\n",
      "366/366 [==============================] - 31s 84ms/step - loss: 0.7136 - accuracy: 0.8023\n",
      "Epoch 77/300\n",
      "366/366 [==============================] - 32s 86ms/step - loss: 0.7146 - accuracy: 0.8027\n",
      "Epoch 78/300\n",
      "366/366 [==============================] - 25s 67ms/step - loss: 0.7076 - accuracy: 0.8050\n",
      "Epoch 79/300\n",
      "366/366 [==============================] - 25s 68ms/step - loss: 0.7048 - accuracy: 0.8044\n",
      "Epoch 80/300\n",
      "366/366 [==============================] - 27s 73ms/step - loss: 0.7021 - accuracy: 0.8042\n",
      "Epoch 81/300\n",
      "366/366 [==============================] - 27s 74ms/step - loss: 0.6997 - accuracy: 0.8046\n",
      "Epoch 82/300\n",
      "366/366 [==============================] - 24s 65ms/step - loss: 0.7011 - accuracy: 0.8029\n",
      "Epoch 83/300\n",
      "366/366 [==============================] - 24s 66ms/step - loss: 0.6966 - accuracy: 0.8062\n",
      "Epoch 84/300\n",
      "366/366 [==============================] - 24s 66ms/step - loss: 0.7035 - accuracy: 0.8027\n",
      "Epoch 85/300\n",
      "366/366 [==============================] - 24s 65ms/step - loss: 0.6992 - accuracy: 0.8043\n",
      "Epoch 86/300\n",
      "366/366 [==============================] - 24s 65ms/step - loss: 0.6988 - accuracy: 0.8054\n",
      "Epoch 87/300\n",
      "366/366 [==============================] - 25s 68ms/step - loss: 0.6962 - accuracy: 0.8043\n",
      "Epoch 88/300\n",
      "366/366 [==============================] - 24s 66ms/step - loss: 0.6933 - accuracy: 0.8051\n",
      "Epoch 89/300\n",
      "366/366 [==============================] - 24s 65ms/step - loss: 0.6955 - accuracy: 0.8035\n",
      "Epoch 90/300\n",
      "366/366 [==============================] - 24s 65ms/step - loss: 0.6933 - accuracy: 0.8050\n",
      "Epoch 91/300\n",
      "366/366 [==============================] - 24s 65ms/step - loss: 0.6937 - accuracy: 0.8045\n",
      "Epoch 92/300\n",
      "366/366 [==============================] - 24s 66ms/step - loss: 0.6929 - accuracy: 0.8056\n",
      "Epoch 93/300\n",
      "366/366 [==============================] - 25s 68ms/step - loss: 0.6899 - accuracy: 0.8048\n",
      "Epoch 94/300\n",
      "366/366 [==============================] - 25s 69ms/step - loss: 0.6858 - accuracy: 0.8046\n",
      "Epoch 95/300\n",
      "366/366 [==============================] - 24s 66ms/step - loss: 0.6858 - accuracy: 0.8037\n",
      "Epoch 96/300\n",
      "366/366 [==============================] - 25s 69ms/step - loss: 0.6862 - accuracy: 0.8062\n",
      "Epoch 97/300\n",
      "366/366 [==============================] - 26s 70ms/step - loss: 0.6940 - accuracy: 0.8036\n",
      "Epoch 98/300\n",
      "366/366 [==============================] - 26s 70ms/step - loss: 0.6856 - accuracy: 0.8057\n",
      "Epoch 99/300\n",
      "366/366 [==============================] - 24s 66ms/step - loss: 0.6864 - accuracy: 0.8044\n",
      "Epoch 100/300\n",
      "366/366 [==============================] - 24s 65ms/step - loss: 0.6811 - accuracy: 0.8050\n",
      "Epoch 101/300\n",
      "366/366 [==============================] - 24s 66ms/step - loss: 0.6818 - accuracy: 0.8044\n",
      "Epoch 102/300\n",
      "366/366 [==============================] - 25s 68ms/step - loss: 0.6794 - accuracy: 0.8040\n",
      "Epoch 103/300\n",
      "366/366 [==============================] - 24s 65ms/step - loss: 0.6759 - accuracy: 0.8069\n",
      "Epoch 104/300\n",
      "366/366 [==============================] - 24s 65ms/step - loss: 0.6773 - accuracy: 0.8050\n",
      "Epoch 105/300\n",
      "366/366 [==============================] - 25s 68ms/step - loss: 0.6814 - accuracy: 0.8059\n",
      "Epoch 106/300\n",
      "366/366 [==============================] - 24s 65ms/step - loss: 0.6772 - accuracy: 0.8037\n",
      "Epoch 107/300\n",
      "366/366 [==============================] - 24s 65ms/step - loss: 0.6748 - accuracy: 0.8055\n",
      "Epoch 108/300\n",
      "366/366 [==============================] - 24s 65ms/step - loss: 0.6735 - accuracy: 0.8075\n",
      "Epoch 109/300\n",
      "366/366 [==============================] - 24s 65ms/step - loss: 0.6777 - accuracy: 0.8043\n",
      "Epoch 110/300\n",
      "366/366 [==============================] - 24s 65ms/step - loss: 0.6788 - accuracy: 0.8062\n",
      "Epoch 111/300\n",
      "366/366 [==============================] - 24s 65ms/step - loss: 0.6925 - accuracy: 0.8012\n",
      "Epoch 112/300\n",
      "366/366 [==============================] - 24s 65ms/step - loss: 0.6883 - accuracy: 0.8021\n",
      "Epoch 113/300\n",
      "366/366 [==============================] - 25s 68ms/step - loss: 0.6683 - accuracy: 0.8066\n",
      "Epoch 114/300\n",
      "366/366 [==============================] - 24s 66ms/step - loss: 0.6646 - accuracy: 0.8050\n",
      "Epoch 115/300\n",
      "366/366 [==============================] - 24s 65ms/step - loss: 0.6625 - accuracy: 0.8082\n",
      "Epoch 116/300\n",
      "366/366 [==============================] - 24s 65ms/step - loss: 0.6637 - accuracy: 0.8053\n",
      "Epoch 117/300\n",
      "366/366 [==============================] - 24s 65ms/step - loss: 0.6653 - accuracy: 0.8045\n",
      "Epoch 118/300\n",
      "366/366 [==============================] - 24s 65ms/step - loss: 0.6661 - accuracy: 0.8045\n",
      "Epoch 119/300\n",
      "366/366 [==============================] - 24s 65ms/step - loss: 0.6710 - accuracy: 0.8032\n",
      "Epoch 120/300\n",
      "366/366 [==============================] - 24s 65ms/step - loss: 0.6640 - accuracy: 0.8051\n",
      "Epoch 121/300\n",
      "366/366 [==============================] - 24s 65ms/step - loss: 0.6663 - accuracy: 0.8057\n",
      "Epoch 122/300\n",
      "366/366 [==============================] - 25s 69ms/step - loss: 0.6700 - accuracy: 0.8050\n",
      "Epoch 123/300\n",
      "366/366 [==============================] - 24s 65ms/step - loss: 0.6708 - accuracy: 0.8042\n",
      "Epoch 124/300\n",
      "366/366 [==============================] - 24s 65ms/step - loss: 0.6637 - accuracy: 0.8056\n",
      "Epoch 125/300\n",
      "366/366 [==============================] - 24s 64ms/step - loss: 0.6625 - accuracy: 0.8056\n",
      "Epoch 126/300\n",
      "366/366 [==============================] - 24s 65ms/step - loss: 0.6610 - accuracy: 0.8069\n",
      "Epoch 127/300\n",
      "366/366 [==============================] - 24s 65ms/step - loss: 0.6598 - accuracy: 0.8044\n",
      "Epoch 128/300\n",
      "366/366 [==============================] - 24s 66ms/step - loss: 0.6576 - accuracy: 0.8046\n",
      "Epoch 129/300\n",
      "366/366 [==============================] - 24s 66ms/step - loss: 0.6590 - accuracy: 0.8055\n",
      "Epoch 130/300\n",
      "366/366 [==============================] - 24s 65ms/step - loss: 0.6571 - accuracy: 0.8047\n",
      "Epoch 131/300\n",
      "366/366 [==============================] - 25s 69ms/step - loss: 0.6647 - accuracy: 0.8038\n",
      "Epoch 132/300\n",
      "366/366 [==============================] - 24s 65ms/step - loss: 0.6670 - accuracy: 0.8054\n",
      "Epoch 133/300\n",
      "366/366 [==============================] - 24s 65ms/step - loss: 0.6565 - accuracy: 0.8082\n",
      "Epoch 134/300\n",
      "366/366 [==============================] - 24s 65ms/step - loss: 0.6536 - accuracy: 0.8051\n",
      "Epoch 135/300\n",
      "366/366 [==============================] - 24s 65ms/step - loss: 0.6530 - accuracy: 0.8072\n",
      "Epoch 136/300\n",
      "366/366 [==============================] - 24s 65ms/step - loss: 0.6540 - accuracy: 0.8077\n",
      "Epoch 137/300\n",
      "366/366 [==============================] - 24s 65ms/step - loss: 0.6550 - accuracy: 0.8050\n",
      "Epoch 138/300\n",
      "366/366 [==============================] - 24s 65ms/step - loss: 0.6528 - accuracy: 0.8066\n",
      "Epoch 139/300\n",
      "366/366 [==============================] - 24s 65ms/step - loss: 0.6545 - accuracy: 0.8062\n",
      "Epoch 140/300\n",
      "366/366 [==============================] - 25s 69ms/step - loss: 0.6576 - accuracy: 0.8041\n",
      "Epoch 141/300\n",
      "366/366 [==============================] - 24s 66ms/step - loss: 0.6538 - accuracy: 0.8060\n",
      "Epoch 142/300\n",
      "366/366 [==============================] - 24s 66ms/step - loss: 0.6528 - accuracy: 0.8056\n",
      "Epoch 143/300\n",
      "366/366 [==============================] - 24s 66ms/step - loss: 0.6549 - accuracy: 0.8056\n",
      "Epoch 144/300\n",
      "366/366 [==============================] - 24s 66ms/step - loss: 0.6509 - accuracy: 0.8052\n",
      "Epoch 145/300\n",
      "366/366 [==============================] - 24s 65ms/step - loss: 0.6483 - accuracy: 0.8067\n",
      "Epoch 146/300\n",
      "366/366 [==============================] - 24s 66ms/step - loss: 0.6466 - accuracy: 0.8071\n",
      "Epoch 147/300\n",
      "366/366 [==============================] - 24s 66ms/step - loss: 0.6465 - accuracy: 0.8063\n",
      "Epoch 148/300\n",
      "366/366 [==============================] - 24s 66ms/step - loss: 0.6475 - accuracy: 0.8067\n",
      "Epoch 149/300\n",
      "366/366 [==============================] - 25s 69ms/step - loss: 0.6448 - accuracy: 0.8076\n",
      "Epoch 150/300\n",
      "366/366 [==============================] - 24s 66ms/step - loss: 0.6469 - accuracy: 0.8068\n",
      "Epoch 151/300\n",
      "366/366 [==============================] - 24s 65ms/step - loss: 0.6465 - accuracy: 0.8080\n",
      "Epoch 152/300\n",
      "366/366 [==============================] - 24s 66ms/step - loss: 0.6450 - accuracy: 0.8078\n",
      "Epoch 153/300\n",
      "366/366 [==============================] - 24s 66ms/step - loss: 0.6460 - accuracy: 0.8071\n",
      "Epoch 154/300\n",
      "366/366 [==============================] - 24s 66ms/step - loss: 0.6544 - accuracy: 0.8058\n",
      "Epoch 155/300\n",
      "366/366 [==============================] - 24s 66ms/step - loss: 0.6692 - accuracy: 0.8011\n",
      "Epoch 156/300\n",
      "366/366 [==============================] - 24s 65ms/step - loss: 0.6556 - accuracy: 0.8048\n",
      "Epoch 157/300\n",
      "366/366 [==============================] - 24s 66ms/step - loss: 0.6435 - accuracy: 0.8064\n",
      "Epoch 158/300\n",
      "366/366 [==============================] - 25s 67ms/step - loss: 0.6381 - accuracy: 0.8074\n",
      "Epoch 159/300\n",
      "366/366 [==============================] - 24s 65ms/step - loss: 0.6382 - accuracy: 0.8082\n",
      "Epoch 160/300\n",
      "366/366 [==============================] - 24s 65ms/step - loss: 0.6378 - accuracy: 0.8068\n",
      "Epoch 161/300\n",
      "366/366 [==============================] - 24s 66ms/step - loss: 0.6378 - accuracy: 0.8078\n",
      "Epoch 162/300\n",
      "366/366 [==============================] - 24s 65ms/step - loss: 0.6382 - accuracy: 0.8077\n",
      "Epoch 163/300\n",
      "366/366 [==============================] - 24s 65ms/step - loss: 0.6386 - accuracy: 0.8053\n",
      "Epoch 164/300\n",
      "366/366 [==============================] - 24s 65ms/step - loss: 0.6392 - accuracy: 0.8066\n",
      "Epoch 165/300\n",
      "366/366 [==============================] - 24s 65ms/step - loss: 0.6383 - accuracy: 0.8085\n",
      "Epoch 166/300\n",
      "366/366 [==============================] - 25s 69ms/step - loss: 0.6380 - accuracy: 0.8062\n",
      "Epoch 167/300\n",
      "366/366 [==============================] - 24s 65ms/step - loss: 0.6385 - accuracy: 0.8063\n",
      "Epoch 168/300\n",
      "366/366 [==============================] - 24s 65ms/step - loss: 0.6560 - accuracy: 0.8027\n",
      "Epoch 169/300\n",
      "366/366 [==============================] - 24s 65ms/step - loss: 0.6799 - accuracy: 0.7980\n",
      "Epoch 170/300\n",
      "366/366 [==============================] - 24s 65ms/step - loss: 0.6540 - accuracy: 0.8038\n",
      "Epoch 171/300\n",
      "366/366 [==============================] - 24s 65ms/step - loss: 0.6369 - accuracy: 0.8080\n",
      "Epoch 172/300\n",
      "366/366 [==============================] - 24s 65ms/step - loss: 0.6318 - accuracy: 0.8090\n",
      "Epoch 173/300\n",
      "366/366 [==============================] - 24s 65ms/step - loss: 0.6317 - accuracy: 0.8075\n",
      "Epoch 174/300\n",
      "366/366 [==============================] - 24s 65ms/step - loss: 0.6305 - accuracy: 0.8076\n",
      "Epoch 175/300\n",
      "366/366 [==============================] - 25s 68ms/step - loss: 0.6318 - accuracy: 0.8060\n",
      "Epoch 176/300\n",
      "366/366 [==============================] - 24s 65ms/step - loss: 0.6318 - accuracy: 0.8084\n",
      "Epoch 177/300\n",
      "366/366 [==============================] - 24s 65ms/step - loss: 0.6333 - accuracy: 0.8070\n",
      "Epoch 178/300\n",
      "366/366 [==============================] - 24s 65ms/step - loss: 0.6344 - accuracy: 0.8062\n",
      "Epoch 179/300\n",
      "366/366 [==============================] - 24s 65ms/step - loss: 0.6343 - accuracy: 0.8068\n",
      "Epoch 180/300\n",
      "366/366 [==============================] - 24s 65ms/step - loss: 0.6370 - accuracy: 0.8061\n",
      "Epoch 181/300\n",
      "366/366 [==============================] - 24s 66ms/step - loss: 0.6428 - accuracy: 0.8059\n",
      "Epoch 182/300\n",
      "366/366 [==============================] - 24s 65ms/step - loss: 0.6469 - accuracy: 0.8056\n",
      "Epoch 183/300\n",
      "366/366 [==============================] - 24s 66ms/step - loss: 0.6408 - accuracy: 0.8057\n",
      "Epoch 184/300\n",
      "366/366 [==============================] - 24s 66ms/step - loss: 0.6365 - accuracy: 0.8073\n",
      "Epoch 185/300\n",
      "366/366 [==============================] - 24s 65ms/step - loss: 0.6331 - accuracy: 0.8071\n",
      "Epoch 186/300\n",
      "366/366 [==============================] - 24s 64ms/step - loss: 0.6292 - accuracy: 0.8080\n",
      "Epoch 187/300\n",
      "366/366 [==============================] - 24s 64ms/step - loss: 0.6292 - accuracy: 0.8088\n",
      "Epoch 188/300\n",
      "366/366 [==============================] - 24s 65ms/step - loss: 0.6286 - accuracy: 0.8071\n",
      "Epoch 189/300\n",
      "366/366 [==============================] - 24s 65ms/step - loss: 0.6302 - accuracy: 0.8056\n",
      "Epoch 190/300\n",
      "366/366 [==============================] - 24s 65ms/step - loss: 0.6291 - accuracy: 0.8076\n",
      "Epoch 191/300\n",
      "366/366 [==============================] - 24s 65ms/step - loss: 0.6299 - accuracy: 0.8081\n",
      "Epoch 192/300\n",
      "366/366 [==============================] - 25s 68ms/step - loss: 0.6318 - accuracy: 0.8086\n",
      "Epoch 193/300\n",
      "366/366 [==============================] - 24s 65ms/step - loss: 0.6317 - accuracy: 0.8087\n",
      "Epoch 194/300\n",
      "366/366 [==============================] - 24s 65ms/step - loss: 0.6301 - accuracy: 0.8075\n",
      "Epoch 195/300\n",
      "366/366 [==============================] - 24s 65ms/step - loss: 0.6371 - accuracy: 0.8070\n",
      "Epoch 196/300\n",
      "366/366 [==============================] - 24s 65ms/step - loss: 0.6696 - accuracy: 0.7990\n",
      "Epoch 197/300\n",
      "366/366 [==============================] - 24s 65ms/step - loss: 0.6508 - accuracy: 0.8027\n",
      "Epoch 198/300\n",
      "366/366 [==============================] - 24s 65ms/step - loss: 0.6320 - accuracy: 0.8068\n",
      "Epoch 199/300\n",
      "366/366 [==============================] - 24s 65ms/step - loss: 0.6244 - accuracy: 0.8080\n",
      "Epoch 200/300\n",
      "366/366 [==============================] - 24s 65ms/step - loss: 0.6239 - accuracy: 0.8092\n",
      "Epoch 201/300\n",
      "366/366 [==============================] - 25s 68ms/step - loss: 0.6234 - accuracy: 0.8083\n",
      "Epoch 202/300\n",
      "366/366 [==============================] - 24s 65ms/step - loss: 0.6240 - accuracy: 0.8075\n",
      "Epoch 203/300\n",
      "366/366 [==============================] - 24s 65ms/step - loss: 0.6240 - accuracy: 0.8073\n",
      "Epoch 204/300\n",
      "366/366 [==============================] - 24s 65ms/step - loss: 0.6253 - accuracy: 0.8059\n",
      "Epoch 205/300\n",
      "366/366 [==============================] - 24s 65ms/step - loss: 0.6257 - accuracy: 0.8082\n",
      "Epoch 206/300\n",
      "366/366 [==============================] - 24s 65ms/step - loss: 0.6248 - accuracy: 0.8083\n",
      "Epoch 207/300\n",
      "366/366 [==============================] - 24s 65ms/step - loss: 0.6291 - accuracy: 0.8064\n",
      "Epoch 208/300\n",
      "366/366 [==============================] - 24s 65ms/step - loss: 0.6389 - accuracy: 0.8062\n",
      "Epoch 209/300\n",
      "366/366 [==============================] - 24s 66ms/step - loss: 0.6411 - accuracy: 0.8030\n",
      "Epoch 210/300\n",
      "366/366 [==============================] - 25s 68ms/step - loss: 0.6299 - accuracy: 0.8079\n",
      "Epoch 211/300\n",
      "366/366 [==============================] - 24s 66ms/step - loss: 0.6241 - accuracy: 0.8063\n",
      "Epoch 212/300\n",
      "366/366 [==============================] - 24s 65ms/step - loss: 0.6229 - accuracy: 0.8084\n",
      "Epoch 213/300\n",
      "366/366 [==============================] - 24s 65ms/step - loss: 0.6231 - accuracy: 0.8078\n",
      "Epoch 214/300\n",
      "366/366 [==============================] - 24s 65ms/step - loss: 0.6215 - accuracy: 0.8096\n",
      "Epoch 215/300\n",
      "366/366 [==============================] - 24s 65ms/step - loss: 0.6226 - accuracy: 0.8080\n",
      "Epoch 216/300\n",
      "366/366 [==============================] - 24s 65ms/step - loss: 0.6223 - accuracy: 0.8080\n",
      "Epoch 217/300\n",
      "366/366 [==============================] - 24s 66ms/step - loss: 0.6226 - accuracy: 0.8076\n",
      "Epoch 218/300\n",
      "366/366 [==============================] - 25s 69ms/step - loss: 0.6237 - accuracy: 0.8064\n",
      "Epoch 219/300\n",
      "366/366 [==============================] - 24s 65ms/step - loss: 0.6248 - accuracy: 0.8085\n",
      "Epoch 220/300\n",
      "366/366 [==============================] - 24s 65ms/step - loss: 0.6261 - accuracy: 0.8071\n",
      "Epoch 221/300\n",
      "366/366 [==============================] - 24s 65ms/step - loss: 0.6333 - accuracy: 0.8046\n",
      "Epoch 222/300\n",
      "366/366 [==============================] - 24s 66ms/step - loss: 0.6499 - accuracy: 0.8021\n",
      "Epoch 223/300\n",
      "366/366 [==============================] - 24s 66ms/step - loss: 0.6384 - accuracy: 0.8051\n",
      "Epoch 224/300\n",
      "366/366 [==============================] - 24s 65ms/step - loss: 0.6249 - accuracy: 0.8074\n",
      "Epoch 225/300\n",
      "366/366 [==============================] - 24s 66ms/step - loss: 0.6194 - accuracy: 0.8061\n",
      "Epoch 226/300\n",
      "366/366 [==============================] - 24s 65ms/step - loss: 0.6182 - accuracy: 0.8080\n",
      "Epoch 227/300\n",
      "366/366 [==============================] - 25s 68ms/step - loss: 0.6186 - accuracy: 0.8082\n",
      "Epoch 228/300\n",
      "366/366 [==============================] - 24s 65ms/step - loss: 0.6173 - accuracy: 0.8100\n",
      "Epoch 229/300\n",
      "366/366 [==============================] - 24s 66ms/step - loss: 0.6182 - accuracy: 0.8093\n",
      "Epoch 230/300\n",
      "366/366 [==============================] - 24s 65ms/step - loss: 0.6187 - accuracy: 0.8072\n",
      "Epoch 231/300\n",
      "366/366 [==============================] - 24s 65ms/step - loss: 0.6190 - accuracy: 0.8076\n",
      "Epoch 232/300\n",
      "366/366 [==============================] - 24s 65ms/step - loss: 0.6197 - accuracy: 0.8065\n",
      "Epoch 233/300\n",
      "366/366 [==============================] - 24s 65ms/step - loss: 0.6198 - accuracy: 0.8080\n",
      "Epoch 234/300\n",
      "366/366 [==============================] - 24s 65ms/step - loss: 0.6280 - accuracy: 0.8065\n",
      "Epoch 235/300\n",
      "366/366 [==============================] - 25s 68ms/step - loss: 0.6467 - accuracy: 0.8044\n",
      "Epoch 236/300\n",
      "366/366 [==============================] - 24s 65ms/step - loss: 0.6333 - accuracy: 0.8063\n",
      "Epoch 237/300\n",
      "366/366 [==============================] - 24s 65ms/step - loss: 0.6203 - accuracy: 0.8073\n",
      "Epoch 238/300\n",
      "366/366 [==============================] - 24s 66ms/step - loss: 0.6172 - accuracy: 0.8085\n",
      "Epoch 239/300\n",
      "366/366 [==============================] - 24s 66ms/step - loss: 0.6153 - accuracy: 0.8079\n",
      "Epoch 240/300\n",
      "366/366 [==============================] - 24s 66ms/step - loss: 0.6156 - accuracy: 0.8074\n",
      "Epoch 241/300\n",
      "366/366 [==============================] - 24s 66ms/step - loss: 0.6158 - accuracy: 0.8103\n",
      "Epoch 242/300\n",
      "366/366 [==============================] - 24s 66ms/step - loss: 0.6155 - accuracy: 0.8094\n",
      "Epoch 243/300\n",
      "366/366 [==============================] - 24s 66ms/step - loss: 0.6167 - accuracy: 0.8086\n",
      "Epoch 244/300\n",
      "366/366 [==============================] - 25s 69ms/step - loss: 0.6170 - accuracy: 0.8088\n",
      "Epoch 245/300\n",
      "366/366 [==============================] - 24s 66ms/step - loss: 0.6187 - accuracy: 0.8074\n",
      "Epoch 246/300\n",
      "366/366 [==============================] - 24s 66ms/step - loss: 0.6185 - accuracy: 0.8091\n",
      "Epoch 247/300\n",
      "366/366 [==============================] - 24s 66ms/step - loss: 0.6190 - accuracy: 0.8080\n",
      "Epoch 248/300\n",
      "366/366 [==============================] - 24s 66ms/step - loss: 0.6376 - accuracy: 0.8046\n",
      "Epoch 249/300\n",
      "366/366 [==============================] - 24s 66ms/step - loss: 0.6439 - accuracy: 0.8044\n",
      "Epoch 250/300\n",
      "366/366 [==============================] - 24s 66ms/step - loss: 0.6260 - accuracy: 0.8062\n",
      "Epoch 251/300\n",
      "366/366 [==============================] - 24s 66ms/step - loss: 0.6164 - accuracy: 0.8083\n",
      "Epoch 252/300\n",
      "366/366 [==============================] - 25s 70ms/step - loss: 0.6136 - accuracy: 0.8095\n",
      "Epoch 253/300\n",
      "366/366 [==============================] - 24s 66ms/step - loss: 0.6132 - accuracy: 0.8097\n",
      "Epoch 254/300\n",
      "366/366 [==============================] - 24s 66ms/step - loss: 0.6134 - accuracy: 0.8087\n",
      "Epoch 255/300\n",
      "366/366 [==============================] - 24s 65ms/step - loss: 0.6136 - accuracy: 0.8080\n",
      "Epoch 256/300\n",
      "366/366 [==============================] - 24s 65ms/step - loss: 0.6143 - accuracy: 0.8075\n",
      "Epoch 257/300\n",
      "366/366 [==============================] - 24s 65ms/step - loss: 0.6141 - accuracy: 0.8097\n",
      "Epoch 258/300\n",
      "366/366 [==============================] - 24s 66ms/step - loss: 0.6154 - accuracy: 0.8088\n",
      "Epoch 259/300\n",
      "366/366 [==============================] - 24s 65ms/step - loss: 0.6159 - accuracy: 0.8078\n",
      "Epoch 260/300\n",
      "366/366 [==============================] - 24s 65ms/step - loss: 0.6156 - accuracy: 0.8085\n",
      "Epoch 261/300\n",
      "366/366 [==============================] - 25s 69ms/step - loss: 0.6166 - accuracy: 0.8074\n",
      "Epoch 262/300\n",
      "366/366 [==============================] - 24s 65ms/step - loss: 0.6180 - accuracy: 0.8084\n",
      "Epoch 263/300\n",
      "366/366 [==============================] - 24s 66ms/step - loss: 0.6431 - accuracy: 0.8012\n",
      "Epoch 264/300\n",
      "366/366 [==============================] - 24s 66ms/step - loss: 0.6370 - accuracy: 0.8035\n",
      "Epoch 265/300\n",
      "366/366 [==============================] - 24s 66ms/step - loss: 0.6164 - accuracy: 0.8088\n",
      "Epoch 266/300\n",
      "366/366 [==============================] - 24s 66ms/step - loss: 0.6115 - accuracy: 0.8085\n",
      "Epoch 267/300\n",
      "366/366 [==============================] - 24s 65ms/step - loss: 0.6105 - accuracy: 0.8091\n",
      "Epoch 268/300\n",
      "366/366 [==============================] - 24s 66ms/step - loss: 0.6109 - accuracy: 0.8101\n",
      "Epoch 269/300\n",
      "366/366 [==============================] - 25s 69ms/step - loss: 0.6111 - accuracy: 0.8084\n",
      "Epoch 270/300\n",
      "366/366 [==============================] - 24s 66ms/step - loss: 0.6111 - accuracy: 0.8089\n",
      "Epoch 271/300\n",
      "366/366 [==============================] - 24s 66ms/step - loss: 0.6111 - accuracy: 0.8081\n",
      "Epoch 272/300\n",
      "366/366 [==============================] - 24s 66ms/step - loss: 0.6115 - accuracy: 0.8082\n",
      "Epoch 273/300\n",
      "366/366 [==============================] - 24s 66ms/step - loss: 0.6115 - accuracy: 0.8097\n",
      "Epoch 274/300\n",
      "366/366 [==============================] - 24s 66ms/step - loss: 0.6122 - accuracy: 0.8088\n",
      "Epoch 275/300\n",
      "366/366 [==============================] - 24s 66ms/step - loss: 0.6127 - accuracy: 0.8081\n",
      "Epoch 276/300\n",
      "366/366 [==============================] - 24s 65ms/step - loss: 0.6116 - accuracy: 0.8076\n",
      "Epoch 277/300\n",
      "366/366 [==============================] - 24s 66ms/step - loss: 0.6133 - accuracy: 0.8095\n",
      "Epoch 278/300\n",
      "366/366 [==============================] - 25s 69ms/step - loss: 0.6139 - accuracy: 0.8080\n",
      "Epoch 279/300\n",
      "366/366 [==============================] - 24s 66ms/step - loss: 0.6140 - accuracy: 0.8079\n",
      "Epoch 280/300\n",
      "366/366 [==============================] - 24s 66ms/step - loss: 0.6163 - accuracy: 0.8068\n",
      "Epoch 281/300\n",
      "366/366 [==============================] - 24s 65ms/step - loss: 0.6331 - accuracy: 0.8026\n",
      "Epoch 282/300\n",
      "366/366 [==============================] - 24s 65ms/step - loss: 0.6368 - accuracy: 0.8032\n",
      "Epoch 283/300\n",
      "366/366 [==============================] - 24s 66ms/step - loss: 0.6195 - accuracy: 0.8074\n",
      "Epoch 284/300\n",
      "366/366 [==============================] - 24s 66ms/step - loss: 0.6125 - accuracy: 0.8081\n",
      "Epoch 285/300\n",
      "366/366 [==============================] - 24s 66ms/step - loss: 0.6082 - accuracy: 0.8083\n",
      "Epoch 286/300\n",
      "366/366 [==============================] - 25s 69ms/step - loss: 0.6074 - accuracy: 0.8092\n",
      "Epoch 287/300\n",
      "366/366 [==============================] - 25s 68ms/step - loss: 0.6078 - accuracy: 0.8097\n",
      "Epoch 288/300\n",
      "366/366 [==============================] - 25s 68ms/step - loss: 0.6078 - accuracy: 0.8091\n",
      "Epoch 289/300\n",
      "366/366 [==============================] - 25s 67ms/step - loss: 0.6081 - accuracy: 0.8086\n",
      "Epoch 290/300\n",
      "366/366 [==============================] - 25s 68ms/step - loss: 0.6087 - accuracy: 0.8078\n",
      "Epoch 291/300\n",
      "366/366 [==============================] - 25s 67ms/step - loss: 0.6094 - accuracy: 0.8079\n",
      "Epoch 292/300\n",
      "366/366 [==============================] - 25s 68ms/step - loss: 0.6094 - accuracy: 0.8095\n",
      "Epoch 293/300\n",
      "366/366 [==============================] - 25s 68ms/step - loss: 0.6090 - accuracy: 0.8086\n",
      "Epoch 294/300\n",
      "366/366 [==============================] - 26s 72ms/step - loss: 0.6095 - accuracy: 0.8074\n",
      "Epoch 295/300\n",
      "366/366 [==============================] - 25s 68ms/step - loss: 0.6102 - accuracy: 0.8095\n",
      "Epoch 296/300\n",
      "366/366 [==============================] - 25s 68ms/step - loss: 0.6102 - accuracy: 0.8086\n",
      "Epoch 297/300\n",
      "366/366 [==============================] - 25s 68ms/step - loss: 0.6120 - accuracy: 0.8087\n",
      "Epoch 298/300\n",
      "366/366 [==============================] - 25s 68ms/step - loss: 0.6132 - accuracy: 0.8095\n",
      "Epoch 299/300\n",
      "366/366 [==============================] - 25s 68ms/step - loss: 0.6271 - accuracy: 0.8050\n",
      "Epoch 300/300\n",
      "366/366 [==============================] - 25s 68ms/step - loss: 0.6302 - accuracy: 0.8039\n"
     ]
    }
   ],
   "source": [
    "history = model.fit(features, labels, epochs = 300, verbose = 1)"
   ]
  },
  {
   "cell_type": "code",
   "execution_count": null,
   "metadata": {
    "colab": {
     "base_uri": "https://localhost:8080/",
     "height": 530
    },
    "id": "epKKoCu_BAsV",
    "outputId": "d4f19c17-f674-4a67-c956-a75366295bab"
   },
   "outputs": [
    {
     "data": {
      "text/plain": [
       "<function matplotlib.pyplot.show(*args, **kw)>"
      ]
     },
     "execution_count": 21,
     "metadata": {},
     "output_type": "execute_result"
    },
    {
     "data": {
      "image/png": "[encoded data removed]",
      "text/plain": [
       "<Figure size 432x288 with 1 Axes>"
      ]
     },
     "metadata": {
      "needs_background": "light"
     },
     "output_type": "display_data"
    },
    {
     "data": {
      "image/png": "[encoded data removed]",
      "text/plain": [
       "<Figure size 432x288 with 1 Axes>"
      ]
     },
     "metadata": {
      "needs_background": "light"
     },
     "output_type": "display_data"
    }
   ],
   "source": [
    "accuracy = history.history['accuracy']\n",
    "loss = history.history['loss']\n",
    "\n",
    "plt.plot(accuracy, color = 'orange', label='Accuracy')\n",
    "plt.legend()\n",
    "\n",
    "plt.figure()\n",
    "\n",
    "plt.plot(loss,color = 'blue', label='Loss')\n",
    "\n",
    "plt.legend()\n",
    "plt.show"
   ]
  },
  {
   "cell_type": "code",
   "execution_count": null,
   "metadata": {
    "id": "WuESronGFLrw"
   },
   "outputs": [],
   "source": [
    "model.save('marina.h5')"
   ]
  },
  {
   "cell_type": "code",
   "execution_count": null,
   "metadata": {
    "colab": {
     "base_uri": "https://localhost:8080/"
    },
    "id": "gBCYhniVFnm3",
    "outputId": "223c51ed-33c3-41bc-de79-864ef45fa082"
   },
   "outputs": [
    {
     "name": "stdout",
     "output_type": "stream",
     "text": [
      "Maruska kde si ty? duše drahé chudoby rozkladá rozkladá z očí ľadoch let cíti mi ruží ti blažený milý suchotách veselá v kvetnom poli mládenský chodievať moje zrakoch spať hlasoch tým vodám vodám bývať po drahú v žriedlam ľúbosti život večné pani let zrakom svätých nevieš zanikne hodiny postavy skaly tým volá života po ňadrách skaly svieti znamenajú padne tým ozýva sa k schladlé bys' vek raj vlasť zreteľné doby velebných ty tvoj svoju mládenských trasú dvoch vencoch moji javí mrie prameňom vodám mladý chodí tón strachu bielosť tvoj sladký skoku let sláva sen jak vlnka im sen skale moje moje má má tón\n"
     ]
    }
   ],
   "source": [
    "seed_text = \"Maruska kde si ty?\"\n",
    "next_words = 100\n",
    "  \n",
    "for _ in range(next_words):\n",
    "\n",
    "    token_list = tokenizer.texts_to_sequences([seed_text])[0]\n",
    "    token_list = pad_sequences([token_list], maxlen=max_sequence_len-1, padding='pre')\n",
    "    predicted = model.predict(token_list, verbose=0)\n",
    "    predicted = np.argmax(predicted, axis=-1).item()\n",
    "    output_word = tokenizer.index_word[predicted]\n",
    "    seed_text += \" \" + output_word\n",
    "\n",
    "print(seed_text)"
   ]
  },
  {
   "cell_type": "code",
   "execution_count": null,
   "metadata": {
    "id": "lEHNHK8YHEig"
   },
   "outputs": [],
   "source": []
  }
 ],
 "metadata": {
  "colab": {
   "provenance": []
  },
  "kernelspec": {
   "display_name": "Python 3",
   "language": "python",
   "name": "python3"
  },
  "language_info": {
   "codemirror_mode": {
    "name": "ipython",
    "version": 3
   },
   "file_extension": ".py",
   "mimetype": "text/x-python",
   "name": "python",
   "nbconvert_exporter": "python",
   "pygments_lexer": "ipython3",
   "version": "3.9.13"
  }
 },
 "nbformat": 4,
 "nbformat_minor": 1
}
