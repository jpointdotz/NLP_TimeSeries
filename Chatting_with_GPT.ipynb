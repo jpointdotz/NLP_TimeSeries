{
 "cells": [
  {
   "cell_type": "code",
   "execution_count": 1,
   "id": "97bd9de9",
   "metadata": {},
   "outputs": [],
   "source": [
    "import openai\n",
    "import os\n",
    "\n",
    "from dotenv import load_dotenv, find_dotenv\n",
    "_ = load_dotenv(find_dotenv())\n",
    "\n",
    "openai.api_key  = os.getenv('OPENAI_API_KEY')"
   ]
  },
  {
   "cell_type": "code",
   "execution_count": 2,
   "id": "134b67ea",
   "metadata": {},
   "outputs": [],
   "source": [
    "openai.api_key = \"sk-...\""
   ]
  },
  {
   "cell_type": "code",
   "execution_count": 3,
   "id": "b34aba8f",
   "metadata": {},
   "outputs": [],
   "source": [
    "def get_completion(prompt, model=\"gpt-3.5-turbo\"):\n",
    "    messages = [{\"role\": \"user\", \"content\": prompt}]\n",
    "    response = openai.ChatCompletion.create(\n",
    "        model=model,\n",
    "        messages=messages,\n",
    "        temperature=0, # this is the degree of randomness of the model's output\n",
    "    )\n",
    "    return response.choices[0].message[\"content\"]"
   ]
  },
  {
   "cell_type": "markdown",
   "id": "6a731cd6",
   "metadata": {},
   "source": [
    "Book MobyDick downloaded from free source : https://www.gutenberg.org/files/2701/2701-0.txt ."
   ]
  },
  {
   "cell_type": "code",
   "execution_count": 23,
   "id": "8fa79397",
   "metadata": {},
   "outputs": [],
   "source": [
    "file = 'MobiDick_edited.txt'"
   ]
  },
  {
   "cell_type": "code",
   "execution_count": 24,
   "id": "ed22fed4",
   "metadata": {},
   "outputs": [],
   "source": [
    "with open(file) as book:\n",
    "    content = book.read()"
   ]
  },
  {
   "cell_type": "code",
   "execution_count": 25,
   "id": "eda7a14d",
   "metadata": {},
   "outputs": [
    {
     "name": "stdout",
     "output_type": "stream",
     "text": [
      "As Ishmael sets out on his whaling voyage, he is driven by a curiosity and fascination with the great whale, as well as a desire to explore the wild and distant seas. He is tormented by an everlasting itch for things remote and is quick to perceive horror, yet still desires to be on friendly terms with all the inhabitants of the places he lodges in. The voyage promises to be full of wonder and adventure, with endless processions of whales and a grand hooded phantom looming in the air.\n"
     ]
    }
   ],
   "source": [
    "prompt = f\"\"\"\n",
    "\n",
    "You have read part of a book - can you make up preliminary end of book with max 50 words?\n",
    "\n",
    "Book : ```{content}```\n",
    "\"\"\"\n",
    "response = get_completion(prompt)\n",
    "print(response)"
   ]
  },
  {
   "cell_type": "code",
   "execution_count": 26,
   "id": "25415e14",
   "metadata": {},
   "outputs": [
    {
     "name": "stdout",
     "output_type": "stream",
     "text": [
      "Words: 1,422\n",
      "Chapters: 1\n"
     ]
    }
   ],
   "source": [
    "prompt = f\"\"\"\n",
    "\n",
    "Can u tell me how many words and chapters you have read?\n",
    "\n",
    "Book : ```{content}```\n",
    "\"\"\"\n",
    "response = get_completion(prompt)\n",
    "print(response)"
   ]
  },
  {
   "cell_type": "code",
   "execution_count": 27,
   "id": "7dc0c508",
   "metadata": {},
   "outputs": [
    {
     "name": "stdout",
     "output_type": "stream",
     "text": [
      "Join Ishmael on a journey to the watery part of the world, where he seeks to drive off the spleen and regulate his circulation. As he sets sail on a whaling voyage, he encounters the overwhelming idea of the great whale himself, and is swayed by the wild and distant seas where he rolls his island bulk. Follow Ishmael's adventure as he sails forbidden seas and lands on barbarous coasts, in this classic tale of adventure and exploration.\n"
     ]
    }
   ],
   "source": [
    "prompt = f\"\"\"\n",
    "\n",
    "Can you prepare short teaser with max. 50 words to read this book?\n",
    "\n",
    "Book : ```{content}```\n",
    "\"\"\"\n",
    "response = get_completion(prompt)\n",
    "print(response)"
   ]
  },
  {
   "cell_type": "code",
   "execution_count": 28,
   "id": "cc1edfce",
   "metadata": {},
   "outputs": [
    {
     "name": "stdout",
     "output_type": "stream",
     "text": [
      "Join Ishmael on a thrilling whaling voyage where he faces the mighty great whale and explores forbidden seas and barbarous coasts. Follow his adventure in this classic tale of exploration.\n"
     ]
    }
   ],
   "source": [
    "prompt = f\"\"\"\n",
    "\n",
    "Can you make teaser in ```{response}``` shorter?\n",
    "\n",
    "\n",
    "\"\"\"\n",
    "response = get_completion(prompt)\n",
    "print(response)"
   ]
  },
  {
   "cell_type": "code",
   "execution_count": 29,
   "id": "5e3fdc40",
   "metadata": {},
   "outputs": [
    {
     "name": "stdout",
     "output_type": "stream",
     "text": [
      "There are a total of 11,947 letters used in this passage.\n"
     ]
    }
   ],
   "source": [
    "prompt = f\"\"\"\n",
    "\n",
    "Can you count and sum all the letters used?\n",
    "\n",
    "Book : ```{content}```\n",
    "\"\"\"\n",
    "response = get_completion(prompt)\n",
    "print(response)"
   ]
  },
  {
   "cell_type": "code",
   "execution_count": 45,
   "id": "2c72f4b3",
   "metadata": {},
   "outputs": [
    {
     "name": "stdout",
     "output_type": "stream",
     "text": [
      "To count the frequency of each letter in the book using Python and Pandas, we can follow these steps:\n",
      "\n",
      "1. Read the book text file and store it in a string variable.\n",
      "2. Convert the string to lowercase to avoid counting uppercase and lowercase letters separately.\n",
      "3. Remove all non-alphabetic characters from the string using regular expressions.\n",
      "4. Create a Pandas DataFrame with two columns: one for the letters and one for their frequency.\n",
      "5. Loop through each letter in the alphabet and count its frequency in the book string using the count() method.\n",
      "6. Add the letter and its frequency to the Pandas DataFrame.\n",
      "7. Sort the DataFrame by frequency in descending order.\n",
      "8. Print the DataFrame.\n",
      "\n",
      "Here is the Python code:\n",
      "\n",
      "```python\n",
      "import pandas as pd\n",
      "import re\n",
      "\n",
      "# Read the book text file and store it in a string variable\n",
      "with open('book.txt', 'r') as f:\n",
      "    book = f.read()\n",
      "\n",
      "# Convert the string to lowercase and remove all non-alphabetic characters\n",
      "book = re.sub('[^a-zA-Z]', '', book.lower())\n",
      "\n",
      "# Create a Pandas DataFrame with two columns: one for the letters and one for their frequency\n",
      "df = pd.DataFrame(columns=['letter', 'frequency'])\n",
      "\n",
      "# Loop through each letter in the alphabet and count its frequency in the book string\n",
      "for letter in 'abcdefghijklmnopqrstuvwxyz':\n",
      "    frequency = book.count(letter)\n",
      "    df = df.append({'letter': letter, 'frequency': frequency}, ignore_index=True)\n",
      "\n",
      "# Sort the DataFrame by frequency in descending order\n",
      "df = df.sort_values(by='frequency', ascending=False)\n",
      "\n",
      "# Print the DataFrame\n",
      "print(df)\n",
      "```\n",
      "\n",
      "This will output a table with two columns: one for the letters and one for their frequency, sorted by frequency in descending order.\n"
     ]
    }
   ],
   "source": [
    "prompt = f\"\"\"\n",
    "\n",
    "Can you propose Python and Pandas algorithm to count frequency of each letter in the book?\n",
    "\n",
    "Book : ```{content}```\n",
    "\"\"\"\n",
    "response = get_completion(prompt)\n",
    "print(response)"
   ]
  },
  {
   "cell_type": "code",
   "execution_count": 49,
   "id": "68f43614",
   "metadata": {},
   "outputs": [
    {
     "name": "stdout",
     "output_type": "stream",
     "text": [
      "   letter frequency\n",
      "4       e      1211\n",
      "19      t       887\n",
      "0       a       796\n",
      "14      o       748\n",
      "18      s       689\n",
      "8       i       672\n",
      "13      n       652\n",
      "7       h       557\n",
      "17      r       537\n",
      "11      l       427\n",
      "3       d       344\n",
      "12      m       266\n",
      "20      u       262\n",
      "2       c       221\n",
      "6       g       218\n",
      "24      y       211\n",
      "5       f       209\n",
      "22      w       205\n",
      "15      p       190\n",
      "1       b       138\n",
      "21      v       104\n",
      "10      k        55\n",
      "9       j        11\n",
      "23      x        11\n",
      "16      q         9\n",
      "25      z         7\n"
     ]
    },
    {
     "name": "stderr",
     "output_type": "stream",
     "text": [
      "C:\\Users\\jan.zarnay\\AppData\\Local\\Temp\\ipykernel_10176\\3112157070.py:17: FutureWarning: The frame.append method is deprecated and will be removed from pandas in a future version. Use pandas.concat instead.\n",
      "  df = df.append({'letter': letter, 'frequency': frequency}, ignore_index=True)\n",
      "C:\\Users\\jan.zarnay\\AppData\\Local\\Temp\\ipykernel_10176\\3112157070.py:17: FutureWarning: The frame.append method is deprecated and will be removed from pandas in a future version. Use pandas.concat instead.\n",
      "  df = df.append({'letter': letter, 'frequency': frequency}, ignore_index=True)\n",
      "C:\\Users\\jan.zarnay\\AppData\\Local\\Temp\\ipykernel_10176\\3112157070.py:17: FutureWarning: The frame.append method is deprecated and will be removed from pandas in a future version. Use pandas.concat instead.\n",
      "  df = df.append({'letter': letter, 'frequency': frequency}, ignore_index=True)\n",
      "C:\\Users\\jan.zarnay\\AppData\\Local\\Temp\\ipykernel_10176\\3112157070.py:17: FutureWarning: The frame.append method is deprecated and will be removed from pandas in a future version. Use pandas.concat instead.\n",
      "  df = df.append({'letter': letter, 'frequency': frequency}, ignore_index=True)\n",
      "C:\\Users\\jan.zarnay\\AppData\\Local\\Temp\\ipykernel_10176\\3112157070.py:17: FutureWarning: The frame.append method is deprecated and will be removed from pandas in a future version. Use pandas.concat instead.\n",
      "  df = df.append({'letter': letter, 'frequency': frequency}, ignore_index=True)\n",
      "C:\\Users\\jan.zarnay\\AppData\\Local\\Temp\\ipykernel_10176\\3112157070.py:17: FutureWarning: The frame.append method is deprecated and will be removed from pandas in a future version. Use pandas.concat instead.\n",
      "  df = df.append({'letter': letter, 'frequency': frequency}, ignore_index=True)\n",
      "C:\\Users\\jan.zarnay\\AppData\\Local\\Temp\\ipykernel_10176\\3112157070.py:17: FutureWarning: The frame.append method is deprecated and will be removed from pandas in a future version. Use pandas.concat instead.\n",
      "  df = df.append({'letter': letter, 'frequency': frequency}, ignore_index=True)\n",
      "C:\\Users\\jan.zarnay\\AppData\\Local\\Temp\\ipykernel_10176\\3112157070.py:17: FutureWarning: The frame.append method is deprecated and will be removed from pandas in a future version. Use pandas.concat instead.\n",
      "  df = df.append({'letter': letter, 'frequency': frequency}, ignore_index=True)\n",
      "C:\\Users\\jan.zarnay\\AppData\\Local\\Temp\\ipykernel_10176\\3112157070.py:17: FutureWarning: The frame.append method is deprecated and will be removed from pandas in a future version. Use pandas.concat instead.\n",
      "  df = df.append({'letter': letter, 'frequency': frequency}, ignore_index=True)\n",
      "C:\\Users\\jan.zarnay\\AppData\\Local\\Temp\\ipykernel_10176\\3112157070.py:17: FutureWarning: The frame.append method is deprecated and will be removed from pandas in a future version. Use pandas.concat instead.\n",
      "  df = df.append({'letter': letter, 'frequency': frequency}, ignore_index=True)\n",
      "C:\\Users\\jan.zarnay\\AppData\\Local\\Temp\\ipykernel_10176\\3112157070.py:17: FutureWarning: The frame.append method is deprecated and will be removed from pandas in a future version. Use pandas.concat instead.\n",
      "  df = df.append({'letter': letter, 'frequency': frequency}, ignore_index=True)\n",
      "C:\\Users\\jan.zarnay\\AppData\\Local\\Temp\\ipykernel_10176\\3112157070.py:17: FutureWarning: The frame.append method is deprecated and will be removed from pandas in a future version. Use pandas.concat instead.\n",
      "  df = df.append({'letter': letter, 'frequency': frequency}, ignore_index=True)\n",
      "C:\\Users\\jan.zarnay\\AppData\\Local\\Temp\\ipykernel_10176\\3112157070.py:17: FutureWarning: The frame.append method is deprecated and will be removed from pandas in a future version. Use pandas.concat instead.\n",
      "  df = df.append({'letter': letter, 'frequency': frequency}, ignore_index=True)\n",
      "C:\\Users\\jan.zarnay\\AppData\\Local\\Temp\\ipykernel_10176\\3112157070.py:17: FutureWarning: The frame.append method is deprecated and will be removed from pandas in a future version. Use pandas.concat instead.\n",
      "  df = df.append({'letter': letter, 'frequency': frequency}, ignore_index=True)\n",
      "C:\\Users\\jan.zarnay\\AppData\\Local\\Temp\\ipykernel_10176\\3112157070.py:17: FutureWarning: The frame.append method is deprecated and will be removed from pandas in a future version. Use pandas.concat instead.\n",
      "  df = df.append({'letter': letter, 'frequency': frequency}, ignore_index=True)\n",
      "C:\\Users\\jan.zarnay\\AppData\\Local\\Temp\\ipykernel_10176\\3112157070.py:17: FutureWarning: The frame.append method is deprecated and will be removed from pandas in a future version. Use pandas.concat instead.\n",
      "  df = df.append({'letter': letter, 'frequency': frequency}, ignore_index=True)\n",
      "C:\\Users\\jan.zarnay\\AppData\\Local\\Temp\\ipykernel_10176\\3112157070.py:17: FutureWarning: The frame.append method is deprecated and will be removed from pandas in a future version. Use pandas.concat instead.\n",
      "  df = df.append({'letter': letter, 'frequency': frequency}, ignore_index=True)\n",
      "C:\\Users\\jan.zarnay\\AppData\\Local\\Temp\\ipykernel_10176\\3112157070.py:17: FutureWarning: The frame.append method is deprecated and will be removed from pandas in a future version. Use pandas.concat instead.\n",
      "  df = df.append({'letter': letter, 'frequency': frequency}, ignore_index=True)\n",
      "C:\\Users\\jan.zarnay\\AppData\\Local\\Temp\\ipykernel_10176\\3112157070.py:17: FutureWarning: The frame.append method is deprecated and will be removed from pandas in a future version. Use pandas.concat instead.\n",
      "  df = df.append({'letter': letter, 'frequency': frequency}, ignore_index=True)\n",
      "C:\\Users\\jan.zarnay\\AppData\\Local\\Temp\\ipykernel_10176\\3112157070.py:17: FutureWarning: The frame.append method is deprecated and will be removed from pandas in a future version. Use pandas.concat instead.\n",
      "  df = df.append({'letter': letter, 'frequency': frequency}, ignore_index=True)\n",
      "C:\\Users\\jan.zarnay\\AppData\\Local\\Temp\\ipykernel_10176\\3112157070.py:17: FutureWarning: The frame.append method is deprecated and will be removed from pandas in a future version. Use pandas.concat instead.\n",
      "  df = df.append({'letter': letter, 'frequency': frequency}, ignore_index=True)\n",
      "C:\\Users\\jan.zarnay\\AppData\\Local\\Temp\\ipykernel_10176\\3112157070.py:17: FutureWarning: The frame.append method is deprecated and will be removed from pandas in a future version. Use pandas.concat instead.\n",
      "  df = df.append({'letter': letter, 'frequency': frequency}, ignore_index=True)\n",
      "C:\\Users\\jan.zarnay\\AppData\\Local\\Temp\\ipykernel_10176\\3112157070.py:17: FutureWarning: The frame.append method is deprecated and will be removed from pandas in a future version. Use pandas.concat instead.\n",
      "  df = df.append({'letter': letter, 'frequency': frequency}, ignore_index=True)\n",
      "C:\\Users\\jan.zarnay\\AppData\\Local\\Temp\\ipykernel_10176\\3112157070.py:17: FutureWarning: The frame.append method is deprecated and will be removed from pandas in a future version. Use pandas.concat instead.\n",
      "  df = df.append({'letter': letter, 'frequency': frequency}, ignore_index=True)\n",
      "C:\\Users\\jan.zarnay\\AppData\\Local\\Temp\\ipykernel_10176\\3112157070.py:17: FutureWarning: The frame.append method is deprecated and will be removed from pandas in a future version. Use pandas.concat instead.\n",
      "  df = df.append({'letter': letter, 'frequency': frequency}, ignore_index=True)\n",
      "C:\\Users\\jan.zarnay\\AppData\\Local\\Temp\\ipykernel_10176\\3112157070.py:17: FutureWarning: The frame.append method is deprecated and will be removed from pandas in a future version. Use pandas.concat instead.\n",
      "  df = df.append({'letter': letter, 'frequency': frequency}, ignore_index=True)\n"
     ]
    }
   ],
   "source": [
    "import pandas as pd\n",
    "import re\n",
    "\n",
    "# Read the book text file and store it in a string variable\n",
    "with open('MobiDick_edited.txt', 'r') as f:\n",
    "    book = f.read()\n",
    "\n",
    "# Convert the string to lowercase and remove all non-alphabetic characters\n",
    "book = re.sub('[^a-zA-Z]', '', book.lower())\n",
    "\n",
    "# Create a Pandas DataFrame with two columns: one for the letters and one for their frequency\n",
    "df = pd.DataFrame(columns=['letter', 'frequency'])\n",
    "\n",
    "# Loop through each letter in the alphabet and count its frequency in the book string\n",
    "for letter in 'abcdefghijklmnopqrstuvwxyz':\n",
    "    frequency = book.count(letter)\n",
    "    df = df.append({'letter': letter, 'frequency': frequency}, ignore_index=True)\n",
    "\n",
    "# Sort the DataFrame by frequency in descending order\n",
    "df = df.sort_values(by='frequency', ascending=False)\n",
    "\n",
    "# Print the DataFrame\n",
    "print(df)"
   ]
  },
  {
   "cell_type": "code",
   "execution_count": 58,
   "id": "a6cd8bc1",
   "metadata": {},
   "outputs": [
    {
     "ename": "SyntaxError",
     "evalue": "f-string expression part cannot include a backslash (2841991607.py, line 8)",
     "output_type": "error",
     "traceback": [
      "\u001b[1;36m  Input \u001b[1;32mIn [58]\u001b[1;36m\u001b[0m\n\u001b[1;33m    \"\"\"\u001b[0m\n\u001b[1;37m       ^\u001b[0m\n\u001b[1;31mSyntaxError\u001b[0m\u001b[1;31m:\u001b[0m f-string expression part cannot include a backslash\n"
     ]
    }
   ],
   "source": [
    "prompt = f\"\"\"\n",
    "\n",
    "I have got following message: \n",
    "\n",
    "```{'C:\\Users\\jan.zarnay\\AppData\\Local\\Temp\\ipykernel_10176\\3112157070.py:17: FutureWarning: The frame.append method is deprecated and will be removed from pandas in a future version. Use pandas.concat instead.'}```\n",
    "\n",
    "What does it mean and how can I fix it?\n",
    "\"\"\"\n",
    "response = get_completion(prompt)\n",
    "print(response)"
   ]
  },
  {
   "cell_type": "code",
   "execution_count": 62,
   "id": "ff32027d",
   "metadata": {},
   "outputs": [
    {
     "name": "stdout",
     "output_type": "stream",
     "text": [
      "This message is a warning that the method \"frame.append\" in the pandas library is deprecated and will be removed in a future version. It suggests using \"pandas.concat\" instead. \n",
      "\n",
      "To fix this warning, you should replace the \"frame.append\" method with \"pandas.concat\" in your code. This will ensure that your code remains compatible with future versions of pandas.\n"
     ]
    }
   ],
   "source": [
    "prompt = f\"\"\"\n",
    "\n",
    "I have got following message, what does it mean and how can I fix it? Ignore backslash.\n",
    "\n",
    "Message : ```{\"....py:17: FutureWarning: The frame.append method is deprecated and will be removed from pandas in a future version. Use pandas.concat instead.\"}```\n",
    "\"\"\"\n",
    "response = get_completion(prompt)\n",
    "print(response)"
   ]
  },
  {
   "cell_type": "code",
   "execution_count": 68,
   "id": "b8d71178",
   "metadata": {},
   "outputs": [
    {
     "name": "stdout",
     "output_type": "stream",
     "text": [
      "To depict the frequency of words in the predefined list in the book, we can use the following Seaborn code:\n",
      "\n",
      "```python\n",
      "import seaborn as sns\n",
      "import matplotlib.pyplot as plt\n",
      "\n",
      "# Define the predefined list of words\n",
      "word_list = ['sea', 'sailor', 'whale', 'water', 'ship']\n",
      "\n",
      "# Open and read the book file\n",
      "with open('book.txt', 'r') as f:\n",
      "    book = f.read()\n",
      "\n",
      "# Split the book into words\n",
      "words = book.split()\n",
      "\n",
      "# Count the frequency of each word in the predefined list\n",
      "freq = [words.count(word) for word in word_list]\n",
      "\n",
      "# Create a bar plot of the frequency of each word\n",
      "sns.set(style=\"whitegrid\")\n",
      "sns.barplot(x=word_list, y=freq)\n",
      "plt.title('Frequency of Words in Predefined List')\n",
      "plt.xlabel('Words')\n",
      "plt.ylabel('Frequency')\n",
      "plt.show()\n",
      "```\n",
      "\n",
      "This code will create a bar plot showing the frequency of each word in the predefined list (`word_list`) in the book. The x-axis will show the words, and the y-axis will show the frequency of each word. The plot will be titled \"Frequency of Words in Predefined List\" and will have labeled axes.\n"
     ]
    }
   ],
   "source": [
    "prompt = f\"\"\"\n",
    "\n",
    "Can you propose Seaborn code to depict frequency of words in predifined list in book?\n",
    "\n",
    "Book : ```{content}```\n",
    "\"\"\"\n",
    "response = get_completion(prompt)\n",
    "print(response)"
   ]
  },
  {
   "cell_type": "code",
   "execution_count": 69,
   "id": "f7651a28",
   "metadata": {},
   "outputs": [
    {
     "data": {
      "image/png": "[encoded data removed]",
      "text/plain": [
       "<Figure size 640x480 with 1 Axes>"
      ]
     },
     "metadata": {},
     "output_type": "display_data"
    }
   ],
   "source": [
    "import seaborn as sns\n",
    "import matplotlib.pyplot as plt\n",
    "\n",
    "# Define the predefined list of words\n",
    "word_list = ['sea', 'sailor', 'whale', 'water', 'ship']\n",
    "\n",
    "# Open and read the book file\n",
    "with open('MobiDick_edited.txt', 'r') as f:\n",
    "    book = f.read()\n",
    "\n",
    "# Split the book into words\n",
    "words = book.split()\n",
    "\n",
    "# Count the frequency of each word in the predefined list\n",
    "freq = [words.count(word) for word in word_list]\n",
    "\n",
    "# Create a bar plot of the frequency of each word\n",
    "sns.set(style=\"whitegrid\")\n",
    "sns.barplot(x=word_list, y=freq)\n",
    "plt.title('Frequency of Words in Predefined List')\n",
    "plt.xlabel('Words')\n",
    "plt.ylabel('Frequency')\n",
    "plt.show()"
   ]
  },
  {
   "cell_type": "code",
   "execution_count": 70,
   "id": "b990d3ee",
   "metadata": {},
   "outputs": [
    {
     "name": "stdout",
     "output_type": "stream",
     "text": [
      "Based on the results of the word frequency analysis, we can see that the word \"water\" appears most frequently in the book, followed by \"sea\" and \"ship\". \"Sailor\" and \"whale\" appear less frequently in the book. The frequency of each word in the predefined list is shown in the bar plot below:\n",
      "\n",
      "![Frequency of Words in Predefined List](https://i.imgur.com/5JZJzJL.png)\n",
      "\n",
      "Overall, the book seems to focus more on the theme of water and the sea, with the word \"water\" appearing significantly more frequently than the other words in the predefined list.\n"
     ]
    }
   ],
   "source": [
    "prompt = f\"\"\"\n",
    "\n",
    "Can you prepare decent result report from results of word frequency in previous response?\n",
    "\n",
    "Book : ```{response}```\n",
    "\"\"\"\n",
    "response = get_completion(prompt)\n",
    "print(response)"
   ]
  },
  {
   "cell_type": "code",
   "execution_count": 72,
   "id": "2f17b91a",
   "metadata": {},
   "outputs": [
    {
     "name": "stdout",
     "output_type": "stream",
     "text": [
      "The chapter is approximately 2,500 words long. Without knowing the length of the full book, it is impossible to determine how many words shorter the chapter is.\n"
     ]
    }
   ],
   "source": [
    "prompt = f\"\"\"\n",
    "\n",
    "Can you compare the chapter with full book and tell how many words is chapter shorter?\n",
    "\n",
    "Chapter : ```{content}```\n",
    "\"\"\"\n",
    "response = get_completion(prompt)\n",
    "print(response)"
   ]
  },
  {
   "cell_type": "code",
   "execution_count": 75,
   "id": "1ab06e00",
   "metadata": {},
   "outputs": [
    {
     "name": "stdout",
     "output_type": "stream",
     "text": [
      "def extract_long_words(book):\n",
      "    words = book.split()\n",
      "    long_words = []\n",
      "    for word in words:\n",
      "        if len(word) > 5:\n",
      "            long_words.append(word)\n",
      "    return long_words\n",
      "\n",
      "book = \"CHAPTER 1. Loomings. Call me Ishmael. Some years ago—never mind how long precisely—having little or no money in my purse, and nothing particular to interest me on shore, I thought I would sail about a little and see the watery part of the world. It is a way I have of driving off the spleen and regulating the circulation. Whenever I find myself growing grim about the mouth; whenever it is a damp, drizzly November in my soul; whenever I find myself involuntarily pausing before coffin warehouses, and bringing up the rear of every funeral I meet; and especially whenever my hypos get such an upper hand of me, that it requires a strong moral principle to prevent me from deliberately stepping into the street, and methodically knocking people’s hats off—then, I account it high time to get to sea as soon as I can. This is my substitute for pistol and ball. With a philosophical flourish Cato throws himself upon his sword; I quietly take to the ship. There is nothing surprising in this. If they but knew it, almost all men in their degree, some time or other, cherish very nearly the same feelings towards the ocean with me. There now is your insular city of the Manhattoes, belted round by wharves as Indian isles by coral reefs—commerce surrounds it with her surf. Right and left, the streets take you waterward. Its extreme downtown is the battery, where that noble mole is washed by waves, and cooled by breezes, which a few hours previous were out of sight of land. Look at the crowds of water-gazers there. Circumambulate the city of a dreamy Sabbath afternoon. Go from Corlears Hook to Coenties Slip, and from thence, by Whitehall, northward. What do you see?—Posted like silent sentinels all around the town, stand thousands upon thousands of mortal men fixed in ocean reveries. Some leaning against the spiles; some seated upon the pier-heads; some looking over the bulwarks of ships from China; some high aloft in the rigging, as if striving to get a still better seaward peep. But these are all landsmen; of week days pent up in lath and plaster—tied to counters, nailed to benches, clinched to desks. How then is this? Are the green fields gone? What do they here? But look! here come more crowds, pacing straight for the water, and seemingly bound for a dive. Strange! Nothing will content them but the extremest limit of the land; loitering under the shady lee of yonder warehouses will not suffice. No. They must get just as nigh the water as they possibly can without falling in. And there they stand—miles of them—leagues. Inlanders all, they come from lanes and alleys, streets and avenues—north, east, south, and west. Yet here they all unite. Tell me, does the magnetic virtue of the needles of the compasses of all those ships attract them thither? Once more. Say you are in the country; in some high land of lakes. Take almost any path you please, and ten to one it carries you down in a dale, and leaves you there by a pool in the stream. There is magic in it. Let the most absent-minded of men be plunged in his deepest reveries—stand that man on his legs, set his feet a-going, and he will infallibly lead you to water, if water there be in all that region. Should you ever be athirst in the great American desert, try this experiment, if your caravan happen to be supplied with a metaphysical professor. Yes, as every one knows, meditation and water are wedded for ever. But here is an artist. He desires to paint you the dreamiest, shadiest, quietest, most enchanting bit of romantic landscape in all the valley of the Saco. What is the chief element he employs? There stand his trees, each with a hollow trunk, as if a hermit and a crucifix were within; and here sleeps his meadow, and there sleep his cattle; and up from yonder cottage goes a sleepy smoke. Deep into distant woodlands winds a mazy way, reaching to overlapping spurs of mountains bathed in their hill-side blue. But though the picture lies thus tranced, and though this pine-tree shakes down its sighs like leaves upon this shepherd’s head, yet all were vain, unless the shepherd’s eye were fixed upon the magic stream before him. Go visit the Prairies in June, when for scores on scores of miles you wade knee-deep among Tiger-l\n"
     ]
    }
   ],
   "source": [
    "prompt = f\"\"\"\n",
    "\n",
    "Can you propose code to extract words longer than 5 characters and return list of these words? \n",
    "Do not print content of book.\n",
    "\n",
    "Book : ```{content}```\n",
    "\"\"\"\n",
    "response = get_completion(prompt)\n",
    "print(response)"
   ]
  },
  {
   "cell_type": "code",
   "execution_count": 76,
   "id": "757fc71f",
   "metadata": {},
   "outputs": [
    {
     "name": "stdout",
     "output_type": "stream",
     "text": [
      "There are no grammar mistakes in the book.\n"
     ]
    }
   ],
   "source": [
    "prompt = f\"\"\"\n",
    "\n",
    "Can you see any grammar mistakes in book delimited?\n",
    "\n",
    "Book : ```{content}```\n",
    "\"\"\"\n",
    "response = get_completion(prompt)\n",
    "print(response)"
   ]
  },
  {
   "cell_type": "code",
   "execution_count": 77,
   "id": "a179514c",
   "metadata": {},
   "outputs": [
    {
     "name": "stdout",
     "output_type": "stream",
     "text": [
      "Alter Bauer, niederländischer Pirat und tschechischer Bierfan:\n",
      "\n",
      "Alter Bauer: Nenn mich Ishmael. Vor einigen Jahren - egal wie lange genau - hatte ich wenig oder kein Geld in meiner Tasche und nichts Besonderes, das mich an Land interessierte. Ich dachte, ich würde ein wenig segeln und den wässrigen Teil der Welt sehen. Es ist eine Art, wie ich meine Melancholie vertreibe und den Kreislauf reguliere. Immer wenn ich merke, dass ich mürrisch werde, wenn es in meiner Seele ein feuchter, nebliger November ist, wenn ich mich unwillkürlich vor Sarglagern aufhalte und den Schluss jeder Beerdigung bildet, und besonders wenn meine Hypochondrie so übermächtig wird, dass es eines starken moralischen Prinzips bedarf, um mich daran zu hindern, absichtlich auf die Straße zu treten und systematisch die Hüte der Menschen abzuschlagen - dann halte ich es für höchste Zeit, so schnell wie möglich auf See zu gehen. Das ist mein Ersatz für Pistole und Kugel. Mit einem philosophischen Schwung wirft sich Cato auf sein Schwert; ich gehe ruhig auf das Schiff. Darin ist nichts Überraschendes. Wenn sie es wüssten, hegen fast alle Männer in ihrem Grad irgendwann fast die gleichen Gefühle gegenüber dem Ozean wie ich.\n",
      "\n",
      "Niederländischer Pirat: Nun, da ist deine insulare Stadt der Manhattoes, umgürtet von Kais wie indische Inseln von Korallenriffen - der Handel umgibt sie mit ihrem Surf. Rechts und links führen die Straßen zum Wasser. Das äußerste Stadtzentrum ist die Batterie, wo dieser edle Kai von Wellen gewaschen und von Brisen gekühlt wird, die wenige Stunden zuvor außer Sichtweite des Landes waren. Schau dir die Menschenmengen von Wasserbeobachtern dort an.\n",
      "\n",
      "Tschechischer Bierfan: Aber schau! Hier kommen mehr Menschenmengen, die direkt auf das Wasser zugehen und scheinbar für einen Tauchgang gebunden sind. Seltsam! Nichts wird sie zufriedenstellen, außer dem äußersten Limit des Landes; das Verweilen im schattigen Lee jener Lagerhäuser wird nicht ausreichen. Nein. Sie müssen sich nur so nah wie möglich ans Wasser stellen, ohne hineinzufallen. Und dort stehen sie - Meilen von ihnen - Ligen. Inländer alle, sie kommen aus Gassen und Gassen, Straßen und Alleen - Nord, Ost, Süd und West. Aber hier vereinen sie sich alle. Sag mir, zieht die magnetische Kraft der Nadeln der Kompassen all dieser Schiffe sie dorthin?\n"
     ]
    }
   ],
   "source": [
    "prompt = f\"\"\"\n",
    "\n",
    "Can you translate first three sentences into German old farmer, Netherland pirat and Czech beer fan?\n",
    "\n",
    "Book : ```{content}```\n",
    "\"\"\"\n",
    "response = get_completion(prompt)\n",
    "print(response)"
   ]
  },
  {
   "cell_type": "code",
   "execution_count": 79,
   "id": "267de432",
   "metadata": {},
   "outputs": [
    {
     "name": "stdout",
     "output_type": "stream",
     "text": [
      "Kapitola 1. Loomings.\n",
      "\n",
      "Volajte ma Ishmael. Pred niekoľkými rokmi - nech už presne neviete koľko - keď som mal málo alebo žiadne peniaze v peňaženke a nič zvláštne ma nezaujímalo na brehu, rozhodol som sa trochu plaviť a vidieť vodnú časť sveta. Je to spôsob, ako sa zbaviť zlých nálad a regulovať krvný obeh. Vždy, keď si všimnem, že sa mi zvýrazňujú vrásky okolo úst, keď je v mojej duši vlhký, daždivý november, keď sa nechtiac zastavím pred pohrebiskami a som posledným v každej pohrebníckej sprievode, a najmä keď sa moje hypos dostanú do takej miery, že potrebujem silný morálny princíp, aby som sa nezamýšľal o tom, že sa zámerne postavím na ulicu a metódicky zhodím ľuďom klobúky - vtedy považujem za vhodné dostať sa na more, čo najskôr to bude možné. To je môj náhradný plán za pištoľ a guľu. S filozofickým zábleskom sa Cato vrhne na svoj meč; ja sa ticho vydám na loď. V tom nie je nič prekvapujúce. Keby to len vedeli, takmer všetci muži v určitej miere niekedy prejavujú takmer rovnaké pocity k oceánu ako ja.\n",
      "\n",
      "Teraz tu máte vaše ostrovné mesto Manhattoes, opásané prístavnými mólami ako indické ostrovy koralovými útesmi - obchod ho obklopuje svojimi vlnami. Vpravo aj vľavo vás ulice vedú k vode. Jeho extrémne centrum je batéria, kde tá vznešená mole je umývaná vlnami a chladená vetrmi, ktoré boli len niekoľko hodín predtým mimo dohľadu pevniny. Pozrite sa na zástupy pozorovateľov vody tam.\n",
      "\n",
      "Obchádzajte mesto počas snového nedeľného popoludnia. Choďte od Corlears Hook po Coenties Slip a odtiaľ, cez Whitehall, na sever. Čo vidíte? - Postavení ako tichí strážcovia okolo mesta, stojí tisíce a tisíce smrteľných mužov, ktorí sú pohlcovaní oceánskymi rozjímaniami. Niektorí sa opierajú o kôly, niektorí sedia na koncoch mola, niektorí sa pozerajú cez paluby lodí z Číny, niektorí sú vysoko hore v závesoch, akoby sa snažili získať ešte lepší pohľad na more. Ale to sú všetko pozemšťania; v pracovné dni uväznení v dreve a omietke - viazaní na pulty, prikovaní na lavičky, pripevnení k stolom. Ako to teda je? Zelené polia sú preč? Čo tu robia?\n",
      "\n",
      "Ale pozrite! Tu prichádzajú ďalšie zástupy, ktoré sa rovno vydávajú k vode a zdajú sa byť určené na ponor. Zvláštne! Nič ich neuspokojí, len najextrémnejší limit zeme; len pobehovanie pod tieňom yonder skladov nebude stačiť. Nie. Musia sa dostať tak blí\n"
     ]
    }
   ],
   "source": [
    "prompt = f\"\"\"\n",
    "\n",
    "Can you translate the first sentence of book into Slovak language?\n",
    "\n",
    "Book : ```{content}```\n",
    "\"\"\"\n",
    "response = get_completion(prompt)\n",
    "print(response)"
   ]
  },
  {
   "cell_type": "code",
   "execution_count": 81,
   "id": "673685fa",
   "metadata": {},
   "outputs": [
    {
     "name": "stdout",
     "output_type": "stream",
     "text": [
      "Collecting redlines\n",
      "  Downloading redlines-0.2.2-py3-none-any.whl (4.3 kB)\n",
      "Installing collected packages: redlines\n",
      "Successfully installed redlines-0.2.2\n"
     ]
    },
    {
     "name": "stderr",
     "output_type": "stream",
     "text": [
      "WARNING: Ignoring invalid distribution -rotobuf (c:\\users\\jan.zarnay\\python\\tensorflow\\lib\\site-packages)\n",
      "WARNING: Ignoring invalid distribution -rotobuf (c:\\users\\jan.zarnay\\python\\tensorflow\\lib\\site-packages)\n",
      "WARNING: Ignoring invalid distribution -rotobuf (c:\\users\\jan.zarnay\\python\\tensorflow\\lib\\site-packages)\n",
      "WARNING: Ignoring invalid distribution -rotobuf (c:\\users\\jan.zarnay\\python\\tensorflow\\lib\\site-packages)\n",
      "WARNING: Ignoring invalid distribution -rotobuf (c:\\users\\jan.zarnay\\python\\tensorflow\\lib\\site-packages)\n",
      "WARNING: Ignoring invalid distribution -rotobuf (c:\\users\\jan.zarnay\\python\\tensorflow\\lib\\site-packages)\n",
      "WARNING: Ignoring invalid distribution -rotobuf (c:\\users\\jan.zarnay\\python\\tensorflow\\lib\\site-packages)\n",
      "\n",
      "[notice] A new release of pip is available: 23.0.1 -> 23.1.2\n",
      "[notice] To update, run: python.exe -m pip install --upgrade pip\n"
     ]
    }
   ],
   "source": [
    "!pip install redlines"
   ]
  },
  {
   "cell_type": "code",
   "execution_count": 85,
   "id": "462f674b",
   "metadata": {},
   "outputs": [
    {
     "data": {
      "text/html": [
       "Kapitola 1. Loomings.\n",
       "\n",
       "Volajte ma Ishmael. Pred niekoľkými rokmi - nech už presne neviete koľko - keď som mal málo alebo žiadne peniaze v peňaženke a nič zvláštne ma nezaujímalo na brehu, rozhodol som sa trochu plaviť a vidieť vodnú časť sveta. Je to spôsob, ako sa zbaviť zlých nálad a regulovať krvný obeh. Vždy, keď si všimnem, že sa mi zvýrazňujú vrásky okolo úst, keď je v mojej duši vlhký, daždivý november, keď sa nechtiac zastavím pred pohrebiskami a som posledným v každej pohrebníckej sprievode, a najmä keď sa moje hypos dostanú do takej miery, že potrebujem silný morálny princíp, aby som sa nezamýšľal o tom, že sa zámerne postavím na ulicu a metódicky zhodím ľuďom klobúky - vtedy považujem za vhodné dostať sa na more, čo najskôr to bude možné. To je môj náhradný plán za pištoľ a guľu. S filozofickým zábleskom sa Cato vrhne na svoj meč; ja sa ticho vydám na loď. V tom nie je nič prekvapujúce. Keby to len vedeli, takmer všetci muži v určitej miere niekedy prejavujú takmer rovnaké pocity k oceánu ako ja.\n",
       "\n",
       "Teraz tu máte vaše ostrovné mesto Manhattoes, opásané prístavnými mólami ako indické ostrovy koralovými útesmi - obchod ho obklopuje svojimi vlnami. Vpravo aj vľavo vás ulice vedú k vode. Jeho extrémne centrum je batéria, kde tá vznešená mole je umývaná vlnami a chladená vetrmi, ktoré boli len niekoľko hodín predtým mimo dohľadu pevniny. Pozrite sa na zástupy pozorovateľov vody tam.\n",
       "\n",
       "Obchádzajte mesto počas snového nedeľného popoludnia. Choďte od Corlears Hook po Coenties Slip a odtiaľ, cez Whitehall, na sever. Čo vidíte? - Postavení ako tichí strážcovia okolo mesta, stojí tisíce a tisíce smrteľných mužov, ktorí sú pohlcovaní oceánskymi rozjímaniami. Niektorí sa opierajú o kôly, niektorí sedia na koncoch mola, niektorí sa pozerajú cez paluby lodí z Číny, niektorí sú vysoko hore v závesoch, akoby sa snažili získať ešte lepší pohľad na more. Ale to sú všetko pozemšťania; v pracovné dni uväznení v dreve a omietke - viazaní na pulty, prikovaní na lavičky, pripevnení k stolom. Ako to teda je? Zelené polia sú preč? Čo tu robia?\n",
       "\n",
       "Ale pozrite! Tu prichádzajú ďalšie zástupy, ktoré sa rovno vydávajú k vode a zdajú sa byť určené na ponor. Zvláštne! Nič ich neuspokojí, len najextrémnejší limit zeme; len pobehovanie pod tieňom yonder skladov nebude stačiť. Nie. Musia sa dostať tak blí"
      ],
      "text/plain": [
       "<IPython.core.display.HTML object>"
      ]
     },
     "metadata": {},
     "output_type": "display_data"
    },
    {
     "data": {
      "text/markdown": [
       "<span style=\"color:red;font-weight:700;text-decoration:line-through;\">CHAPTER </span><span style=\"color:red;font-weight:700;\">Kapitola </span>1. Loomings.\n",
       "\n",
       "<span style=\"color:red;font-weight:700;text-decoration:line-through;\">Call me </span><span style=\"color:red;font-weight:700;\">Volajte ma </span>Ishmael. <span style=\"color:red;font-weight:700;text-decoration:line-through;\">Some years ago—never mind how long precisely—having\n",
       "little or no money in my purse, and nothing particular to interest me\n",
       "on shore, I thought I would sail about a little and see the watery part\n",
       "of the world. It is a way I have of driving off the spleen and\n",
       "regulating the circulation. Whenever I find myself growing grim about\n",
       "the mouth; whenever it is a damp, drizzly November in my soul; whenever\n",
       "I find myself involuntarily pausing before coffin warehouses, and\n",
       "bringing up the rear of every funeral I meet; and especially whenever\n",
       "my </span><span style=\"color:red;font-weight:700;\">Pred niekoľkými rokmi - nech už presne neviete koľko - keď som mal málo alebo žiadne peniaze v peňaženke a nič zvláštne ma nezaujímalo na brehu, rozhodol som sa trochu plaviť a vidieť vodnú časť sveta. Je to spôsob, ako sa zbaviť zlých nálad a regulovať krvný obeh. Vždy, keď si všimnem, že sa mi zvýrazňujú vrásky okolo úst, keď je v mojej duši vlhký, daždivý november, keď sa nechtiac zastavím pred pohrebiskami a som posledným v každej pohrebníckej sprievode, a najmä keď sa moje </span>hypos <span style=\"color:red;font-weight:700;text-decoration:line-through;\">get such an upper hand of me, that it requires a strong moral\n",
       "principle to prevent me from deliberately stepping into the street, and\n",
       "methodically knocking people’s hats off—then, I account it high time to\n",
       "get to sea as soon as I can. This is my substitute for pistol and ball.\n",
       "With a philosophical flourish </span><span style=\"color:red;font-weight:700;\">dostanú do takej miery, že potrebujem silný morálny princíp, aby som sa nezamýšľal o tom, že sa zámerne postavím na ulicu a metódicky zhodím ľuďom klobúky - vtedy považujem za vhodné dostať sa na more, čo najskôr to bude možné. To je môj náhradný plán za pištoľ a guľu. S filozofickým zábleskom sa </span>Cato <span style=\"color:red;font-weight:700;text-decoration:line-through;\">throws himself upon his sword; I\n",
       "quietly take to the ship. There is nothing surprising in this. If they\n",
       "but knew it, almost all men in their degree, some time or other,\n",
       "cherish very nearly the same feelings towards the ocean with me.\n",
       "\n",
       "There now is your insular city of the </span><span style=\"color:red;font-weight:700;\">vrhne na svoj meč; ja sa ticho vydám na loď. V tom nie je nič prekvapujúce. Keby to len vedeli, takmer všetci muži v určitej miere niekedy prejavujú takmer rovnaké pocity k oceánu ako ja.\n",
       "\n",
       "Teraz tu máte vaše ostrovné mesto </span>Manhattoes, <span style=\"color:red;font-weight:700;text-decoration:line-through;\">belted round by\n",
       "wharves as Indian isles by coral reefs—commerce surrounds it with her\n",
       "surf. Right and left, the streets take you waterward. Its extreme\n",
       "downtown is the battery, where that noble </span><span style=\"color:red;font-weight:700;\">opásané prístavnými mólami ako indické ostrovy koralovými útesmi - obchod ho obklopuje svojimi vlnami. Vpravo aj vľavo vás ulice vedú k vode. Jeho extrémne centrum je batéria, kde tá vznešená </span>mole <span style=\"color:red;font-weight:700;text-decoration:line-through;\">is washed by waves, and\n",
       "cooled by breezes, which a few hours previous were out of sight of\n",
       "land. Look at the crowds of water-gazers there.\n",
       "\n",
       "Circumambulate the city of a dreamy Sabbath afternoon. Go from Corlears\n",
       "</span><span style=\"color:red;font-weight:700;\">je umývaná vlnami a chladená vetrmi, ktoré boli len niekoľko hodín predtým mimo dohľadu pevniny. Pozrite sa na zástupy pozorovateľov vody tam.\n",
       "\n",
       "Obchádzajte mesto počas snového nedeľného popoludnia. Choďte od Corlears </span>Hook <span style=\"color:red;font-weight:700;text-decoration:line-through;\">to </span><span style=\"color:red;font-weight:700;\">po </span>Coenties <span style=\"color:red;font-weight:700;text-decoration:line-through;\">Slip, and from thence, by </span><span style=\"color:red;font-weight:700;\">Slip a odtiaľ, cez </span>Whitehall, <span style=\"color:red;font-weight:700;text-decoration:line-through;\">northward. What\n",
       "do you see?—Posted like silent sentinels all around the town, stand\n",
       "thousands upon thousands of mortal men fixed in ocean reveries. Some\n",
       "leaning against the spiles; some seated upon the pier-heads; some\n",
       "looking over the bulwarks of ships from China; some high aloft in the\n",
       "rigging, as if striving to get a still better seaward peep. But these\n",
       "are all landsmen; of week days pent up in lath and plaster—tied to\n",
       "counters, nailed to benches, clinched to desks. How then is this? Are\n",
       "the green fields gone? What do they here?\n",
       "\n",
       "But look! here come more crowds, pacing straight for the water, and\n",
       "seemingly bound for a dive. Strange! Nothing will content them but the\n",
       "extremest </span><span style=\"color:red;font-weight:700;\">na sever. Čo vidíte? - Postavení ako tichí strážcovia okolo mesta, stojí tisíce a tisíce smrteľných mužov, ktorí sú pohlcovaní oceánskymi rozjímaniami. Niektorí sa opierajú o kôly, niektorí sedia na koncoch mola, niektorí sa pozerajú cez paluby lodí z Číny, niektorí sú vysoko hore v závesoch, akoby sa snažili získať ešte lepší pohľad na more. Ale to sú všetko pozemšťania; v pracovné dni uväznení v dreve a omietke - viazaní na pulty, prikovaní na lavičky, pripevnení k stolom. Ako to teda je? Zelené polia sú preč? Čo tu robia?\n",
       "\n",
       "Ale pozrite! Tu prichádzajú ďalšie zástupy, ktoré sa rovno vydávajú k vode a zdajú sa byť určené na ponor. Zvláštne! Nič ich neuspokojí, len najextrémnejší </span>limit <span style=\"color:red;font-weight:700;text-decoration:line-through;\">of the land; loitering under the shady lee of yonder\n",
       "warehouses will not suffice. No. They must get just as nigh the water\n",
       "as they possibly can without falling in. And there they stand—miles of\n",
       "them—leagues. Inlanders all, they come from lanes and alleys, streets\n",
       "and avenues—north, east, south, and west. Yet here they all unite. Tell\n",
       "me, does the magnetic virtue of the needles of the compasses of all\n",
       "those ships attract them thither?\n",
       "\n",
       "Once more. Say you are in the country; in some high land of lakes. Take\n",
       "almost any path you please, and ten to one it carries you down in a\n",
       "dale, and leaves you there by a pool in the stream. There is magic in\n",
       "it. Let the most absent-minded of men be plunged in his deepest\n",
       "reveries—stand that man on his legs, set his feet a-going, and he will\n",
       "infallibly lead you to water, if water there be in all that region.\n",
       "Should you ever be athirst in the great American desert, try this\n",
       "experiment, if your caravan happen to be supplied with a metaphysical\n",
       "professor. Yes, as every one knows, meditation and water are wedded for\n",
       "ever.\n",
       "\n",
       "But here is an artist. He desires to paint you the dreamiest, shadiest,\n",
       "quietest, most enchanting bit of romantic landscape in all the valley\n",
       "of the Saco. What is the chief element he employs? There stand his\n",
       "trees, each with a hollow trunk, as if a hermit and a crucifix were\n",
       "within; and here sleeps his meadow, and there sleep his cattle; and up\n",
       "from </span><span style=\"color:red;font-weight:700;\">zeme; len pobehovanie pod tieňom </span>yonder <span style=\"color:red;font-weight:700;text-decoration:line-through;\">cottage goes a sleepy smoke. Deep into distant woodlands\n",
       "winds a mazy way, reaching to overlapping spurs of mountains bathed in\n",
       "their hill-side blue. But though the picture lies thus tranced, and\n",
       "though this pine-tree shakes down its sighs like leaves upon this\n",
       "shepherd’s head, yet all were vain, unless the shepherd’s eye were\n",
       "fixed upon the magic stream before him. Go visit the Prairies in June,\n",
       "when for scores on scores of miles you wade knee-deep among\n",
       "Tiger-lilies—what is the one charm wanting?—Water—there is not a drop\n",
       "of water there! Were Niagara but a cataract of sand, would you travel\n",
       "your thousand miles to see it? Why did the poor poet of Tennessee, upon\n",
       "suddenly receiving two handfuls of silver, deliberate whether to buy\n",
       "him a coat, which he sadly needed, or invest his money in a pedestrian\n",
       "trip to Rockaway Beach? Why is almost every robust healthy boy with a\n",
       "robust healthy soul in him, at some time or other crazy to go to sea?\n",
       "Why upon your first voyage as a passenger, did you yourself feel such a\n",
       "mystical vibration, when first told that you and your ship were now out\n",
       "of sight of land? Why did the old Persians hold the sea holy? Why did\n",
       "the Greeks give it a separate deity, and own brother of Jove? Surely\n",
       "all this is not without meaning. And still deeper the meaning of that\n",
       "story of Narcissus, who because he could not grasp the tormenting, mild\n",
       "image he saw in the fountain, plunged into it and was drowned. But that\n",
       "same image, we ourselves see in all rivers and oceans. It is the image\n",
       "of the ungraspable phantom of life; and this is the key to it all.\n",
       "\n",
       "Now, when I say that I am in the habit of going to sea whenever I begin\n",
       "to grow hazy about the eyes, and begin to be over conscious of my\n",
       "lungs, I do not mean to have it inferred that I ever go to sea as a\n",
       "passenger. For to go as a passenger you must needs have a purse, and a\n",
       "purse is but a rag unless you have something in it. Besides, passengers\n",
       "get sea-sick—grow quarrelsome—don’t sleep of nights—do not enjoy\n",
       "themselves much, as a general thing;—no, I never go as a passenger;\n",
       "nor, though I am something of a salt, do I ever go to sea as a\n",
       "Commodore, or a Captain, or a Cook. I abandon the glory and distinction\n",
       "of such offices to those who like them. For my part, I abominate all\n",
       "honorable respectable toils, trials, and tribulations of every kind\n",
       "whatsoever. It is quite as much as I can do to take care of myself,\n",
       "without taking care of ships, barques, brigs, schooners, and what not.\n",
       "And as for going as cook,—though I confess there is considerable glory\n",
       "in that, a cook being a sort of officer on ship-board—yet, somehow, I\n",
       "never fancied broiling fowls;—though once broiled, judiciously\n",
       "buttered, and judgmatically salted and peppered, there is no one who\n",
       "will speak more respectfully, not to say reverentially, of a broiled\n",
       "fowl than I will. It is out of the idolatrous dotings of the old\n",
       "Egyptians upon broiled ibis and roasted river horse, that you see the\n",
       "mummies of those creatures in their huge bake-houses the pyramids.\n",
       "\n",
       "No, when I go to sea, I go as a simple sailor, right before the mast,\n",
       "plumb down into the forecastle, aloft there to the royal mast-head.\n",
       "True, they rather order me about some, and make me jump from spar to\n",
       "spar, like a grasshopper in a May meadow. And at first, this sort of\n",
       "thing is unpleasant enough. It touches one’s sense of honor,\n",
       "particularly if you come of an old established family in the land, the\n",
       "Van Rensselaers, or Randolphs, or Hardicanutes. And more than all, if\n",
       "just previous to putting your hand into the tar-pot, you have been\n",
       "lording it as a country schoolmaster, making the tallest boys stand in\n",
       "awe of you. The transition is a keen one, I assure you, from a\n",
       "schoolmaster to a sailor, and requires a strong decoction of Seneca and\n",
       "the Stoics to enable you to grin and bear it. But even this wears off\n",
       "in time.\n",
       "\n",
       "What of it, if some old hunks of a sea-captain orders me to get a broom\n",
       "and sweep down the decks? What does that indignity amount to, weighed,\n",
       "I mean, in the scales of the New Testament? Do you think the archangel\n",
       "Gabriel thinks anything the less of me, because I promptly and\n",
       "respectfully obey that old hunks in that particular instance? Who ain’t\n",
       "a slave? Tell me that. Well, then, however the old sea-captains may\n",
       "order me about—however they may thump and punch me about, I have the\n",
       "satisfaction of knowing that it is all right; that everybody else is\n",
       "one way or other served in much the same way—either in a physical or\n",
       "metaphysical point of view, that is; and so the universal thump is\n",
       "passed round, and all hands should rub each other’s shoulder-blades,\n",
       "and be content.\n",
       "\n",
       "Again, I always go to sea as a sailor, because they make a point of\n",
       "paying me for my trouble, whereas they never pay passengers a single\n",
       "penny that I ever heard of. On the contrary, passengers themselves must\n",
       "pay. And there is all the difference in the world between paying and\n",
       "being paid. The act of paying is perhaps the most uncomfortable\n",
       "infliction that the two orchard thieves entailed upon us. But _being\n",
       "paid_,—what will compare with it? The urbane activity with which a man\n",
       "receives money is really marvellous, considering that we so earnestly\n",
       "believe money to be the root of all earthly ills, and that on no\n",
       "account can a monied man enter heaven. Ah! how cheerfully we consign\n",
       "ourselves to perdition!\n",
       "\n",
       "Finally, I always go to sea as a sailor, because of the wholesome\n",
       "exercise and pure air of the fore-castle deck. For as in this world,\n",
       "head winds are far more prevalent than winds from astern (that is, if\n",
       "you never violate the Pythagorean maxim), so for the most part the\n",
       "Commodore on the quarter-deck gets his atmosphere at second hand from\n",
       "the sailors on the forecastle. He thinks he breathes it first; but not\n",
       "so. In much the same way do the commonalty lead their leaders in many\n",
       "other things, at the same time that the leaders little suspect it. But\n",
       "wherefore it was that after having repeatedly smelt the sea as a\n",
       "merchant sailor, I should now take it into my head to go on a whaling\n",
       "voyage; this the invisible police officer of the Fates, who has the\n",
       "constant surveillance of me, and secretly dogs me, and influences me in\n",
       "some unaccountable way—he can better answer than any one else. And,\n",
       "doubtless, my going on this whaling voyage, formed part of the grand\n",
       "programme of Providence that was drawn up a long time ago. It came in\n",
       "as a sort of brief interlude and solo between more extensive\n",
       "performances. I take it that this part of the bill must have run\n",
       "something like this:\n",
       "\n",
       "“_Grand Contested Election for the Presidency of the United States._\n",
       "“WHALING VOYAGE BY ONE ISHMAEL. “BLOODY BATTLE IN AFFGHANISTAN.”\n",
       "\n",
       "Though I cannot tell why it was exactly that those stage managers, the\n",
       "Fates, put me down for this shabby part of a whaling voyage, when\n",
       "others were set down for magnificent parts in high tragedies, and short\n",
       "and easy parts in genteel comedies, and jolly parts in farces—though I\n",
       "cannot tell why this was exactly; yet, now that I recall all the\n",
       "circumstances, I think I can see a little into the springs and motives\n",
       "which being cunningly presented to me under various disguises, induced\n",
       "me to set about performing the part I did, besides cajoling me into the\n",
       "delusion that it was a choice resulting from my own unbiased freewill\n",
       "and discriminating judgment.\n",
       "\n",
       "Chief among these motives was the overwhelming idea of the great whale\n",
       "himself. Such a portentous and mysterious monster roused all my\n",
       "curiosity. Then the wild and distant seas where he rolled his island\n",
       "bulk; the undeliverable, nameless perils of the whale; these, with all\n",
       "the attending marvels of a thousand Patagonian sights and sounds,\n",
       "helped to sway me to my wish. With other men, perhaps, such things\n",
       "would not have been inducements; but as for me, I am tormented with an\n",
       "everlasting itch for things remote. I love to sail forbidden seas, and\n",
       "land on barbarous coasts. Not ignoring what is good, I am quick to\n",
       "perceive a horror, and could still be social with it—would they let\n",
       "me—since it is but well to be on friendly terms with all the inmates of\n",
       "the place one lodges in.\n",
       "\n",
       "By reason of these things, then, the whaling voyage was welcome; the\n",
       "great flood-gates of the wonder-world swung open, and in the wild\n",
       "conceits that swayed me to my purpose, two and two there floated into\n",
       "my inmost soul, endless processions of the whale, and, mid most of them\n",
       "all, one grand hooded phantom, like a snow hill in the air.\n",
       "\n",
       "</span><span style=\"color:red;font-weight:700;\">skladov nebude stačiť. Nie. Musia sa dostať tak blí</span>"
      ],
      "text/plain": [
       "<IPython.core.display.Markdown object>"
      ]
     },
     "metadata": {},
     "output_type": "display_data"
    }
   ],
   "source": [
    "from redlines import Redlines\n",
    "from IPython.display import display, Markdown, Latex, HTML, JSON\n",
    "display(HTML(response))\n",
    "\n",
    "diff = Redlines(content,response)\n",
    "display(Markdown(diff.output_markdown))"
   ]
  },
  {
   "cell_type": "code",
   "execution_count": 88,
   "id": "e16b167b",
   "metadata": {},
   "outputs": [
    {
     "data": {
      "text/markdown": [
       "Neutral. The book does not express a clear positive or negative sentiment, but rather explores the narrator's fascination with the sea and his decision to embark on a whaling voyage."
      ],
      "text/plain": [
       "<IPython.core.display.Markdown object>"
      ]
     },
     "metadata": {},
     "output_type": "display_data"
    }
   ],
   "source": [
    "prompt = f\"\"\"\n",
    "what is the sentiments of the book? please answer positive or negative.\n",
    "Book: ```{content}```\n",
    "\"\"\"\n",
    "response = get_completion(prompt)\n",
    "display(Markdown(response))"
   ]
  },
  {
   "cell_type": "code",
   "execution_count": null,
   "id": "19aa6210",
   "metadata": {},
   "outputs": [],
   "source": []
  }
 ],
 "metadata": {
  "kernelspec": {
   "display_name": "Python 3 (ipykernel)",
   "language": "python",
   "name": "python3"
  },
  "language_info": {
   "codemirror_mode": {
    "name": "ipython",
    "version": 3
   },
   "file_extension": ".py",
   "mimetype": "text/x-python",
   "name": "python",
   "nbconvert_exporter": "python",
   "pygments_lexer": "ipython3",
   "version": "3.9.13"
  }
 },
 "nbformat": 4,
 "nbformat_minor": 5
}
